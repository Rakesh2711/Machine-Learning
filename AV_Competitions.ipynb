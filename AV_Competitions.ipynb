{
  "nbformat": 4,
  "nbformat_minor": 0,
  "metadata": {
    "colab": {
      "name": "AV_Competitions.ipynb",
      "version": "0.3.2",
      "provenance": [],
      "collapsed_sections": [],
      "include_colab_link": true
    },
    "kernelspec": {
      "name": "python3",
      "display_name": "Python 3"
    },
    "accelerator": "GPU"
  },
  "cells": [
    {
      "cell_type": "markdown",
      "metadata": {
        "id": "view-in-github",
        "colab_type": "text"
      },
      "source": [
        "<a href=\"https://colab.research.google.com/github/rex2711/Machine-Learning/blob/master/AV_Competitions.ipynb\" target=\"_parent\"><img src=\"https://colab.research.google.com/assets/colab-badge.svg\" alt=\"Open In Colab\"/></a>"
      ]
    },
    {
      "cell_type": "code",
      "metadata": {
        "id": "bhlEpPbOeo3S",
        "colab_type": "code",
        "colab": {}
      },
      "source": [
        "import pandas as pd\n",
        "import numpy as np\n",
        "import matplotlib.pyplot as plt\n",
        "import seaborn as sns\n",
        "%matplotlib inline\n",
        "import os"
      ],
      "execution_count": 0,
      "outputs": []
    },
    {
      "cell_type": "code",
      "metadata": {
        "id": "MyT8b5mCfWAE",
        "colab_type": "code",
        "outputId": "f038d393-08b5-460e-bd46-3c0569ea6266",
        "colab": {
          "base_uri": "https://localhost:8080/",
          "height": 129
        }
      },
      "source": [
        "from google.colab import drive\n",
        "drive.mount('/content/drive')"
      ],
      "execution_count": 4,
      "outputs": [
        {
          "output_type": "stream",
          "text": [
            "Go to this URL in a browser: https://accounts.google.com/o/oauth2/auth?client_id=947318989803-6bn6qk8qdgf4n4g3pfee6491hc0brc4i.apps.googleusercontent.com&redirect_uri=urn%3Aietf%3Awg%3Aoauth%3A2.0%3Aoob&scope=email%20https%3A%2F%2Fwww.googleapis.com%2Fauth%2Fdocs.test%20https%3A%2F%2Fwww.googleapis.com%2Fauth%2Fdrive%20https%3A%2F%2Fwww.googleapis.com%2Fauth%2Fdrive.photos.readonly%20https%3A%2F%2Fwww.googleapis.com%2Fauth%2Fpeopleapi.readonly&response_type=code\n",
            "\n",
            "Enter your authorization code:\n",
            "··········\n",
            "Mounted at /content/drive\n"
          ],
          "name": "stdout"
        }
      ]
    },
    {
      "cell_type": "code",
      "metadata": {
        "id": "FJ3YmrRnfRku",
        "colab_type": "code",
        "outputId": "51c61e88-3e0d-4a17-949d-015b1c28b063",
        "colab": {
          "base_uri": "https://localhost:8080/",
          "height": 34
        }
      },
      "source": [
        "%cd /content/drive/My Drive"
      ],
      "execution_count": 5,
      "outputs": [
        {
          "output_type": "stream",
          "text": [
            "/content/drive/My Drive\n"
          ],
          "name": "stdout"
        }
      ]
    },
    {
      "cell_type": "code",
      "metadata": {
        "id": "aYFg4N69f_Vh",
        "colab_type": "code",
        "colab": {}
      },
      "source": [
        "df_train=pd.read_csv('train.csv')"
      ],
      "execution_count": 0,
      "outputs": []
    },
    {
      "cell_type": "code",
      "metadata": {
        "id": "sHaAoBwUfRqF",
        "colab_type": "code",
        "colab": {}
      },
      "source": [
        "df_test=pd.read_csv('test-2.csv')"
      ],
      "execution_count": 0,
      "outputs": []
    },
    {
      "cell_type": "code",
      "metadata": {
        "id": "98h1Bjg4fRs2",
        "colab_type": "code",
        "colab": {}
      },
      "source": [
        "df_test['m13']=np.nan\n",
        "df_test['data']='test'\n",
        "df_train['data']='train'"
      ],
      "execution_count": 0,
      "outputs": []
    },
    {
      "cell_type": "code",
      "metadata": {
        "id": "SZdUT7GWfRwW",
        "colab_type": "code",
        "colab": {}
      },
      "source": [
        "df_test=df_test[df_train.columns]\n",
        "df=pd.concat([df_test,df_train],axis=0)"
      ],
      "execution_count": 0,
      "outputs": []
    },
    {
      "cell_type": "code",
      "metadata": {
        "id": "ec8v8NuCgPb8",
        "colab_type": "code",
        "colab": {}
      },
      "source": [
        "df.drop(['loan_id'],axis=1,inplace=True)"
      ],
      "execution_count": 0,
      "outputs": []
    },
    {
      "cell_type": "code",
      "metadata": {
        "id": "mqAZbOgXgPfb",
        "colab_type": "code",
        "outputId": "d74aa8ca-1e47-47aa-a8b2-c1418bddab2b",
        "colab": {
          "base_uri": "https://localhost:8080/",
          "height": 510
        }
      },
      "source": [
        "list(zip(df.dtypes,df.columns,df.nunique()))"
      ],
      "execution_count": 12,
      "outputs": [
        {
          "output_type": "execute_result",
          "data": {
            "text/plain": [
              "[(dtype('O'), 'source', 3),\n",
              " (dtype('O'), 'financial_institution', 19),\n",
              " (dtype('float64'), 'interest_rate', 1121),\n",
              " (dtype('int64'), 'unpaid_principal_bal', 660),\n",
              " (dtype('int64'), 'loan_term', 149),\n",
              " (dtype('O'), 'origination_date', 6),\n",
              " (dtype('O'), 'first_payment_date', 8),\n",
              " (dtype('int64'), 'loan_to_value', 93),\n",
              " (dtype('float64'), 'number_of_borrowers', 2),\n",
              " (dtype('float64'), 'debt_to_income_ratio', 58),\n",
              " (dtype('float64'), 'borrower_credit_score', 223),\n",
              " (dtype('O'), 'loan_purpose', 3),\n",
              " (dtype('float64'), 'insurance_percent', 14),\n",
              " (dtype('float64'), 'co-borrower_credit_score', 216),\n",
              " (dtype('float64'), 'insurance_type', 2),\n",
              " (dtype('int64'), 'm1', 4),\n",
              " (dtype('int64'), 'm2', 5),\n",
              " (dtype('int64'), 'm3', 6),\n",
              " (dtype('int64'), 'm4', 7),\n",
              " (dtype('int64'), 'm5', 8),\n",
              " (dtype('int64'), 'm6', 9),\n",
              " (dtype('int64'), 'm7', 10),\n",
              " (dtype('int64'), 'm8', 10),\n",
              " (dtype('int64'), 'm9', 11),\n",
              " (dtype('int64'), 'm10', 12),\n",
              " (dtype('int64'), 'm11', 13),\n",
              " (dtype('int64'), 'm12', 13),\n",
              " (dtype('float64'), 'm13', 2),\n",
              " (dtype('O'), 'data', 2)]"
            ]
          },
          "metadata": {
            "tags": []
          },
          "execution_count": 12
        }
      ]
    },
    {
      "cell_type": "code",
      "metadata": {
        "id": "KtZTcFyhgPjL",
        "colab_type": "code",
        "colab": {}
      },
      "source": [
        "df['origination_date']=np.where(df['origination_date']=='2012-02-01' ,'Feb',df['origination_date'])\n",
        "df['origination_date']=np.where(df['origination_date']=='2012-01-01' ,'Jan',df['origination_date'])\n",
        "df['origination_date']=np.where(df['origination_date']=='01/02/12' ,'Feb',df['origination_date'])\n",
        "df['origination_date']=np.where(df['origination_date']=='01/01/12' ,'Jan',df['origination_date'])\n",
        "df['origination_date']=np.where(df['origination_date']=='2012-03-01' ,'March',df['origination_date'])\n",
        "df['origination_date']=np.where(df['origination_date']=='01/03/12' ,'March',df['origination_date'])"
      ],
      "execution_count": 0,
      "outputs": []
    },
    {
      "cell_type": "code",
      "metadata": {
        "id": "2zSkyx_NgPmv",
        "colab_type": "code",
        "colab": {}
      },
      "source": [
        "df['first_payment_date']=np.where(df['first_payment_date']=='04/2012' ,'Apr',df['first_payment_date'])\n",
        "df['first_payment_date']=np.where(df['first_payment_date']=='03/2012' ,'March',df['first_payment_date'])\n",
        "df['first_payment_date']=np.where(df['first_payment_date']=='Apr-12' ,'Apr',df['first_payment_date'])\n",
        "df['first_payment_date']=np.where(df['first_payment_date']=='05/2012' ,'May',df['first_payment_date'])\n",
        "df['first_payment_date']=np.where(df['first_payment_date']=='Mar-12' ,'March',df['first_payment_date'])\n",
        "df['first_payment_date']=np.where(df['first_payment_date']=='May-12' ,'May',df['first_payment_date'])\n",
        "df['first_payment_date']=np.where(df['first_payment_date']=='02/2012' ,'Feb',df['first_payment_date'])\n",
        "df['first_payment_date']=np.where(df['first_payment_date']=='Feb-12' ,'Feb',df['first_payment_date'])"
      ],
      "execution_count": 0,
      "outputs": []
    },
    {
      "cell_type": "code",
      "metadata": {
        "id": "NTNLDbpdgPsw",
        "colab_type": "code",
        "outputId": "0ffe70bd-bb6a-442d-edc8-84eabba16e24",
        "colab": {
          "base_uri": "https://localhost:8080/",
          "height": 300
        }
      },
      "source": [
        "#it shows very small number of failure in payment\n",
        "sns.countplot(data=df,x='m13')"
      ],
      "execution_count": 0,
      "outputs": [
        {
          "output_type": "execute_result",
          "data": {
            "text/plain": [
              "<matplotlib.axes._subplots.AxesSubplot at 0x7f62cbc042e8>"
            ]
          },
          "metadata": {
            "tags": []
          },
          "execution_count": 17
        },
        {
          "output_type": "display_data",
          "data": {
            "image/png": "[encoded data removed]",
            "text/plain": [
              "<Figure size 432x288 with 1 Axes>"
            ]
          },
          "metadata": {
            "tags": []
          }
        }
      ]
    },
    {
      "cell_type": "code",
      "metadata": {
        "id": "9xZqACuXgPy-",
        "colab_type": "code",
        "outputId": "b301c245-ba14-4391-87cb-2707a4202b00",
        "colab": {
          "base_uri": "https://localhost:8080/",
          "height": 68
        }
      },
      "source": [
        "#List all the catagorical variables from the data to create the dummmies\n",
        "cat_var=df.select_dtypes(['object']).columns\n",
        "\n",
        "cat_var"
      ],
      "execution_count": 12,
      "outputs": [
        {
          "output_type": "execute_result",
          "data": {
            "text/plain": [
              "Index(['source', 'financial_institution', 'origination_date',\n",
              "       'first_payment_date', 'loan_purpose', 'data'],\n",
              "      dtype='object')"
            ]
          },
          "metadata": {
            "tags": []
          },
          "execution_count": 12
        }
      ]
    },
    {
      "cell_type": "code",
      "metadata": {
        "id": "gcKqar0EBZ1z",
        "colab_type": "code",
        "colab": {
          "base_uri": "https://localhost:8080/",
          "height": 34
        },
        "outputId": "1eb01a33-be2e-438b-a86f-83df0c0ba62f"
      },
      "source": [
        "freq.index[freq>500][:1]"
      ],
      "execution_count": 17,
      "outputs": [
        {
          "output_type": "execute_result",
          "data": {
            "text/plain": [
              "Index(['X'], dtype='object')"
            ]
          },
          "metadata": {
            "tags": []
          },
          "execution_count": 17
        }
      ]
    },
    {
      "cell_type": "code",
      "metadata": {
        "id": "7TnVuALSBdU3",
        "colab_type": "code",
        "colab": {}
      },
      "source": [
        ""
      ],
      "execution_count": 0,
      "outputs": []
    },
    {
      "cell_type": "code",
      "metadata": {
        "id": "S2WE8JMhBOxn",
        "colab_type": "code",
        "colab": {
          "base_uri": "https://localhost:8080/",
          "height": 698
        },
        "outputId": "6d84528a-6735-40a1-d02d-39ccba3f37fb"
      },
      "source": [
        "for col in cat_var[:-1]:\n",
        "    freq=df[col].value_counts()\n",
        "    k=freq.index[freq>500][:1]\n",
        "    for cat in k:\n",
        "        name=col+ '_'+cat\n",
        "        df[name]=(df[col==cat]).astype(int)\n",
        "    del df[col]\n",
        "    print(col)"
      ],
      "execution_count": 14,
      "outputs": [
        {
          "output_type": "error",
          "ename": "KeyError",
          "evalue": "ignored",
          "traceback": [
            "\u001b[0;31m---------------------------------------------------------------------------\u001b[0m",
            "\u001b[0;31mKeyError\u001b[0m                                  Traceback (most recent call last)",
            "\u001b[0;32m/usr/local/lib/python3.6/dist-packages/pandas/core/indexes/base.py\u001b[0m in \u001b[0;36mget_loc\u001b[0;34m(self, key, method, tolerance)\u001b[0m\n\u001b[1;32m   2656\u001b[0m             \u001b[0;32mtry\u001b[0m\u001b[0;34m:\u001b[0m\u001b[0;34m\u001b[0m\u001b[0;34m\u001b[0m\u001b[0m\n\u001b[0;32m-> 2657\u001b[0;31m                 \u001b[0;32mreturn\u001b[0m \u001b[0mself\u001b[0m\u001b[0;34m.\u001b[0m\u001b[0m_engine\u001b[0m\u001b[0;34m.\u001b[0m\u001b[0mget_loc\u001b[0m\u001b[0;34m(\u001b[0m\u001b[0mkey\u001b[0m\u001b[0;34m)\u001b[0m\u001b[0;34m\u001b[0m\u001b[0;34m\u001b[0m\u001b[0m\n\u001b[0m\u001b[1;32m   2658\u001b[0m             \u001b[0;32mexcept\u001b[0m \u001b[0mKeyError\u001b[0m\u001b[0;34m:\u001b[0m\u001b[0;34m\u001b[0m\u001b[0;34m\u001b[0m\u001b[0m\n",
            "\u001b[0;32mpandas/_libs/index.pyx\u001b[0m in \u001b[0;36mpandas._libs.index.IndexEngine.get_loc\u001b[0;34m()\u001b[0m\n",
            "\u001b[0;32mpandas/_libs/index.pyx\u001b[0m in \u001b[0;36mpandas._libs.index.IndexEngine.get_loc\u001b[0;34m()\u001b[0m\n",
            "\u001b[0;32mpandas/_libs/hashtable_class_helper.pxi\u001b[0m in \u001b[0;36mpandas._libs.hashtable.PyObjectHashTable.get_item\u001b[0;34m()\u001b[0m\n",
            "\u001b[0;32mpandas/_libs/hashtable_class_helper.pxi\u001b[0m in \u001b[0;36mpandas._libs.hashtable.PyObjectHashTable.get_item\u001b[0;34m()\u001b[0m\n",
            "\u001b[0;31mKeyError\u001b[0m: False",
            "\nDuring handling of the above exception, another exception occurred:\n",
            "\u001b[0;31mKeyError\u001b[0m                                  Traceback (most recent call last)",
            "\u001b[0;32m<ipython-input-14-6503a48d323d>\u001b[0m in \u001b[0;36m<module>\u001b[0;34m()\u001b[0m\n\u001b[1;32m      4\u001b[0m     \u001b[0;32mfor\u001b[0m \u001b[0mcat\u001b[0m \u001b[0;32min\u001b[0m \u001b[0mk\u001b[0m\u001b[0;34m:\u001b[0m\u001b[0;34m\u001b[0m\u001b[0;34m\u001b[0m\u001b[0m\n\u001b[1;32m      5\u001b[0m         \u001b[0mname\u001b[0m\u001b[0;34m=\u001b[0m\u001b[0mcol\u001b[0m\u001b[0;34m+\u001b[0m \u001b[0;34m'_'\u001b[0m\u001b[0;34m+\u001b[0m\u001b[0mcat\u001b[0m\u001b[0;34m\u001b[0m\u001b[0;34m\u001b[0m\u001b[0m\n\u001b[0;32m----> 6\u001b[0;31m         \u001b[0mdf\u001b[0m\u001b[0;34m[\u001b[0m\u001b[0mname\u001b[0m\u001b[0;34m]\u001b[0m\u001b[0;34m=\u001b[0m\u001b[0;34m(\u001b[0m\u001b[0mdf\u001b[0m\u001b[0;34m[\u001b[0m\u001b[0mcol\u001b[0m\u001b[0;34m==\u001b[0m\u001b[0mcat\u001b[0m\u001b[0;34m]\u001b[0m\u001b[0;34m)\u001b[0m\u001b[0;34m.\u001b[0m\u001b[0mastype\u001b[0m\u001b[0;34m(\u001b[0m\u001b[0mint\u001b[0m\u001b[0;34m)\u001b[0m\u001b[0;34m\u001b[0m\u001b[0;34m\u001b[0m\u001b[0m\n\u001b[0m\u001b[1;32m      7\u001b[0m     \u001b[0;32mdel\u001b[0m \u001b[0mdf\u001b[0m\u001b[0;34m[\u001b[0m\u001b[0mcol\u001b[0m\u001b[0;34m]\u001b[0m\u001b[0;34m\u001b[0m\u001b[0;34m\u001b[0m\u001b[0m\n\u001b[1;32m      8\u001b[0m     \u001b[0mprint\u001b[0m\u001b[0;34m(\u001b[0m\u001b[0mcol\u001b[0m\u001b[0;34m)\u001b[0m\u001b[0;34m\u001b[0m\u001b[0;34m\u001b[0m\u001b[0m\n",
            "\u001b[0;32m/usr/local/lib/python3.6/dist-packages/pandas/core/frame.py\u001b[0m in \u001b[0;36m__getitem__\u001b[0;34m(self, key)\u001b[0m\n\u001b[1;32m   2925\u001b[0m             \u001b[0;32mif\u001b[0m \u001b[0mself\u001b[0m\u001b[0;34m.\u001b[0m\u001b[0mcolumns\u001b[0m\u001b[0;34m.\u001b[0m\u001b[0mnlevels\u001b[0m \u001b[0;34m>\u001b[0m \u001b[0;36m1\u001b[0m\u001b[0;34m:\u001b[0m\u001b[0;34m\u001b[0m\u001b[0;34m\u001b[0m\u001b[0m\n\u001b[1;32m   2926\u001b[0m                 \u001b[0;32mreturn\u001b[0m \u001b[0mself\u001b[0m\u001b[0;34m.\u001b[0m\u001b[0m_getitem_multilevel\u001b[0m\u001b[0;34m(\u001b[0m\u001b[0mkey\u001b[0m\u001b[0;34m)\u001b[0m\u001b[0;34m\u001b[0m\u001b[0;34m\u001b[0m\u001b[0m\n\u001b[0;32m-> 2927\u001b[0;31m             \u001b[0mindexer\u001b[0m \u001b[0;34m=\u001b[0m \u001b[0mself\u001b[0m\u001b[0;34m.\u001b[0m\u001b[0mcolumns\u001b[0m\u001b[0;34m.\u001b[0m\u001b[0mget_loc\u001b[0m\u001b[0;34m(\u001b[0m\u001b[0mkey\u001b[0m\u001b[0;34m)\u001b[0m\u001b[0;34m\u001b[0m\u001b[0;34m\u001b[0m\u001b[0m\n\u001b[0m\u001b[1;32m   2928\u001b[0m             \u001b[0;32mif\u001b[0m \u001b[0mis_integer\u001b[0m\u001b[0;34m(\u001b[0m\u001b[0mindexer\u001b[0m\u001b[0;34m)\u001b[0m\u001b[0;34m:\u001b[0m\u001b[0;34m\u001b[0m\u001b[0;34m\u001b[0m\u001b[0m\n\u001b[1;32m   2929\u001b[0m                 \u001b[0mindexer\u001b[0m \u001b[0;34m=\u001b[0m \u001b[0;34m[\u001b[0m\u001b[0mindexer\u001b[0m\u001b[0;34m]\u001b[0m\u001b[0;34m\u001b[0m\u001b[0;34m\u001b[0m\u001b[0m\n",
            "\u001b[0;32m/usr/local/lib/python3.6/dist-packages/pandas/core/indexes/base.py\u001b[0m in \u001b[0;36mget_loc\u001b[0;34m(self, key, method, tolerance)\u001b[0m\n\u001b[1;32m   2657\u001b[0m                 \u001b[0;32mreturn\u001b[0m \u001b[0mself\u001b[0m\u001b[0;34m.\u001b[0m\u001b[0m_engine\u001b[0m\u001b[0;34m.\u001b[0m\u001b[0mget_loc\u001b[0m\u001b[0;34m(\u001b[0m\u001b[0mkey\u001b[0m\u001b[0;34m)\u001b[0m\u001b[0;34m\u001b[0m\u001b[0;34m\u001b[0m\u001b[0m\n\u001b[1;32m   2658\u001b[0m             \u001b[0;32mexcept\u001b[0m \u001b[0mKeyError\u001b[0m\u001b[0;34m:\u001b[0m\u001b[0;34m\u001b[0m\u001b[0;34m\u001b[0m\u001b[0m\n\u001b[0;32m-> 2659\u001b[0;31m                 \u001b[0;32mreturn\u001b[0m \u001b[0mself\u001b[0m\u001b[0;34m.\u001b[0m\u001b[0m_engine\u001b[0m\u001b[0;34m.\u001b[0m\u001b[0mget_loc\u001b[0m\u001b[0;34m(\u001b[0m\u001b[0mself\u001b[0m\u001b[0;34m.\u001b[0m\u001b[0m_maybe_cast_indexer\u001b[0m\u001b[0;34m(\u001b[0m\u001b[0mkey\u001b[0m\u001b[0;34m)\u001b[0m\u001b[0;34m)\u001b[0m\u001b[0;34m\u001b[0m\u001b[0;34m\u001b[0m\u001b[0m\n\u001b[0m\u001b[1;32m   2660\u001b[0m         \u001b[0mindexer\u001b[0m \u001b[0;34m=\u001b[0m \u001b[0mself\u001b[0m\u001b[0;34m.\u001b[0m\u001b[0mget_indexer\u001b[0m\u001b[0;34m(\u001b[0m\u001b[0;34m[\u001b[0m\u001b[0mkey\u001b[0m\u001b[0;34m]\u001b[0m\u001b[0;34m,\u001b[0m \u001b[0mmethod\u001b[0m\u001b[0;34m=\u001b[0m\u001b[0mmethod\u001b[0m\u001b[0;34m,\u001b[0m \u001b[0mtolerance\u001b[0m\u001b[0;34m=\u001b[0m\u001b[0mtolerance\u001b[0m\u001b[0;34m)\u001b[0m\u001b[0;34m\u001b[0m\u001b[0;34m\u001b[0m\u001b[0m\n\u001b[1;32m   2661\u001b[0m         \u001b[0;32mif\u001b[0m \u001b[0mindexer\u001b[0m\u001b[0;34m.\u001b[0m\u001b[0mndim\u001b[0m \u001b[0;34m>\u001b[0m \u001b[0;36m1\u001b[0m \u001b[0;32mor\u001b[0m \u001b[0mindexer\u001b[0m\u001b[0;34m.\u001b[0m\u001b[0msize\u001b[0m \u001b[0;34m>\u001b[0m \u001b[0;36m1\u001b[0m\u001b[0;34m:\u001b[0m\u001b[0;34m\u001b[0m\u001b[0;34m\u001b[0m\u001b[0m\n",
            "\u001b[0;32mpandas/_libs/index.pyx\u001b[0m in \u001b[0;36mpandas._libs.index.IndexEngine.get_loc\u001b[0;34m()\u001b[0m\n",
            "\u001b[0;32mpandas/_libs/index.pyx\u001b[0m in \u001b[0;36mpandas._libs.index.IndexEngine.get_loc\u001b[0;34m()\u001b[0m\n",
            "\u001b[0;32mpandas/_libs/hashtable_class_helper.pxi\u001b[0m in \u001b[0;36mpandas._libs.hashtable.PyObjectHashTable.get_item\u001b[0;34m()\u001b[0m\n",
            "\u001b[0;32mpandas/_libs/hashtable_class_helper.pxi\u001b[0m in \u001b[0;36mpandas._libs.hashtable.PyObjectHashTable.get_item\u001b[0;34m()\u001b[0m\n",
            "\u001b[0;31mKeyError\u001b[0m: False"
          ]
        }
      ]
    },
    {
      "cell_type": "code",
      "metadata": {
        "id": "9iOB7VnugPwb",
        "colab_type": "code",
        "outputId": "03ce8c3a-03c8-498e-89f3-10d1fea7edc6",
        "colab": {
          "base_uri": "https://localhost:8080/",
          "height": 102
        }
      },
      "source": [
        "for col in cat_var[:-1]:\n",
        "    \n",
        "    dummy=pd.get_dummies(df[col],drop_first=True,prefix=col)\n",
        "    df=pd.concat([df,dummy],axis=1)\n",
        "    del df[col]\n",
        "    print(col)\n",
        "del dummy"
      ],
      "execution_count": 16,
      "outputs": [
        {
          "output_type": "stream",
          "text": [
            "source\n",
            "financial_institution\n",
            "origination_date\n",
            "first_payment_date\n",
            "loan_purpose\n"
          ],
          "name": "stdout"
        }
      ]
    },
    {
      "cell_type": "code",
      "metadata": {
        "id": "TX0h45TagPqa",
        "colab_type": "code",
        "outputId": "18c179ba-17ef-48c3-c1c8-483cff4dc2a9",
        "colab": {
          "base_uri": "https://localhost:8080/",
          "height": 901
        }
      },
      "source": [
        "df.isnull().sum()"
      ],
      "execution_count": 17,
      "outputs": [
        {
          "output_type": "execute_result",
          "data": {
            "text/plain": [
              "interest_rate                                            0\n",
              "unpaid_principal_bal                                     0\n",
              "loan_term                                                0\n",
              "loan_to_value                                            0\n",
              "number_of_borrowers                                      0\n",
              "debt_to_income_ratio                                     0\n",
              "borrower_credit_score                                    0\n",
              "insurance_percent                                        0\n",
              "co-borrower_credit_score                                 0\n",
              "insurance_type                                           0\n",
              "m1                                                       0\n",
              "m2                                                       0\n",
              "m3                                                       0\n",
              "m4                                                       0\n",
              "m5                                                       0\n",
              "m6                                                       0\n",
              "m7                                                       0\n",
              "m8                                                       0\n",
              "m9                                                       0\n",
              "m10                                                      0\n",
              "m11                                                      0\n",
              "m12                                                      0\n",
              "m13                                                  35866\n",
              "data                                                     0\n",
              "source_Y                                                 0\n",
              "source_Z                                                 0\n",
              "financial_institution_Browning-Hart                      0\n",
              "financial_institution_Chapman-Mcmahon                    0\n",
              "financial_institution_Cole, Brooks and Vincent           0\n",
              "financial_institution_Edwards-Hoffman                    0\n",
              "financial_institution_Martinez, Duffy and Bird           0\n",
              "financial_institution_Miller, Mcclure and Allen          0\n",
              "financial_institution_Nicholson Group                    0\n",
              "financial_institution_OTHER                              0\n",
              "financial_institution_Richards-Walters                   0\n",
              "financial_institution_Richardson Ltd                     0\n",
              "financial_institution_Romero, Woods and Johnson          0\n",
              "financial_institution_Sanchez, Hays and Wilkerson        0\n",
              "financial_institution_Sanchez-Robinson                   0\n",
              "financial_institution_Suarez Inc                         0\n",
              "financial_institution_Swanson, Newton and Miller         0\n",
              "financial_institution_Taylor, Hunt and Rodriguez         0\n",
              "financial_institution_Thornton-Davis                     0\n",
              "financial_institution_Turner, Baldwin and Rhodes         0\n",
              "origination_date_Jan                                     0\n",
              "origination_date_March                                   0\n",
              "first_payment_date_Feb                                   0\n",
              "first_payment_date_March                                 0\n",
              "first_payment_date_May                                   0\n",
              "loan_purpose_B12                                         0\n",
              "loan_purpose_C86                                         0\n",
              "dtype: int64"
            ]
          },
          "metadata": {
            "tags": []
          },
          "execution_count": 17
        }
      ]
    },
    {
      "cell_type": "code",
      "metadata": {
        "id": "S-krc-m3gqiT",
        "colab_type": "code",
        "colab": {}
      },
      "source": [
        "df_train=df[df['data']=='train']\n",
        "del df_train['data']\n",
        "df_test=df[df['data']=='test']\n",
        "del df_test['data']"
      ],
      "execution_count": 0,
      "outputs": []
    },
    {
      "cell_type": "code",
      "metadata": {
        "id": "oqp2vyCygqme",
        "colab_type": "code",
        "colab": {}
      },
      "source": [
        "from sklearn.linear_model import LogisticRegression,Lasso,Ridge\n",
        "from sklearn.model_selection import GridSearchCV,RandomizedSearchCV"
      ],
      "execution_count": 0,
      "outputs": []
    },
    {
      "cell_type": "code",
      "metadata": {
        "id": "W2mh8i3MgqrC",
        "colab_type": "code",
        "colab": {}
      },
      "source": [
        "#Split the data into x_train,y_train\n",
        "x_train=df_train.drop(['m13'],axis=1)\n",
        "y_train=df_train['m13']\n",
        "x_test=df_test.drop(['m13'],axis=1)\n",
        "y_test=df_test['m13']"
      ],
      "execution_count": 0,
      "outputs": []
    },
    {
      "cell_type": "code",
      "metadata": {
        "id": "MY7JTssugqvs",
        "colab_type": "code",
        "colab": {}
      },
      "source": [
        "params={'class_weight':['balanced',None],\n",
        "       'penalty':['l1','l2'],\n",
        "       'C':np.linspace(0.1,100,100)}"
      ],
      "execution_count": 0,
      "outputs": []
    },
    {
      "cell_type": "code",
      "metadata": {
        "id": "de549C8Mgq23",
        "colab_type": "code",
        "colab": {}
      },
      "source": [
        "model=LogisticRegression(fit_intercept=True)"
      ],
      "execution_count": 0,
      "outputs": []
    },
    {
      "cell_type": "code",
      "metadata": {
        "id": "oI8eARoOgq7z",
        "colab_type": "code",
        "colab": {}
      },
      "source": [
        "Gridsearch=GridSearchCV(model,param_grid=params,cv=10,scoring='roc_auc')"
      ],
      "execution_count": 0,
      "outputs": []
    },
    {
      "cell_type": "code",
      "metadata": {
        "id": "ASYzsp6DnC3-",
        "colab_type": "code",
        "colab": {}
      },
      "source": [
        "Random_search=RandomizedSearchCV(model,param_distributions=params,cv=10,scoring='roc_auc',verbose=1,n_jobs=-1,n_iter=10)"
      ],
      "execution_count": 0,
      "outputs": []
    },
    {
      "cell_type": "code",
      "metadata": {
        "id": "U5JVmLP8gq_W",
        "colab_type": "code",
        "colab": {}
      },
      "source": [
        "#So that we can ignore the warnings\n",
        "import warnings\n",
        "warnings.filterwarnings(\"ignore\")"
      ],
      "execution_count": 0,
      "outputs": []
    },
    {
      "cell_type": "code",
      "metadata": {
        "id": "3sPk_1UygrDO",
        "colab_type": "code",
        "outputId": "62818fdd-5b80-4457-91b6-873175b3fde6",
        "colab": {
          "base_uri": "https://localhost:8080/",
          "height": 425
        }
      },
      "source": [
        "Random_search.fit(x_train,y_train)"
      ],
      "execution_count": 0,
      "outputs": [
        {
          "output_type": "stream",
          "text": [
            "Fitting 10 folds for each of 10 candidates, totalling 100 fits\n"
          ],
          "name": "stdout"
        },
        {
          "output_type": "stream",
          "text": [
            "[Parallel(n_jobs=-1)]: Using backend LokyBackend with 2 concurrent workers.\n",
            "[Parallel(n_jobs=-1)]: Done  46 tasks      | elapsed:  7.1min\n",
            "[Parallel(n_jobs=-1)]: Done 100 out of 100 | elapsed:  8.3min finished\n"
          ],
          "name": "stderr"
        },
        {
          "output_type": "execute_result",
          "data": {
            "text/plain": [
              "RandomizedSearchCV(cv=10, error_score='raise-deprecating',\n",
              "                   estimator=LogisticRegression(C=1.0, class_weight=None,\n",
              "                                                dual=False, fit_intercept=True,\n",
              "                                                intercept_scaling=1,\n",
              "                                                l1_ratio=None, max_iter=100,\n",
              "                                                multi_class='warn', n_jobs=None,\n",
              "                                                penalty='l2', random_state=None,\n",
              "                                                solver='warn', tol=0.0001,\n",
              "                                                verbose=0, warm_start=False),\n",
              "                   iid='warn', n_iter=10, n_jobs=-1,\n",
              "                   param_distributio...\n",
              "        80.82727273,  81.83636364,  82.84545455,  83.85454545,\n",
              "        84.86363636,  85.87272727,  86.88181818,  87.89090909,\n",
              "        88.9       ,  89.90909091,  90.91818182,  91.92727273,\n",
              "        92.93636364,  93.94545455,  94.95454545,  95.96363636,\n",
              "        96.97272727,  97.98181818,  98.99090909, 100.        ]),\n",
              "                                        'class_weight': ['balanced', None],\n",
              "                                        'penalty': ['l1', 'l2']},\n",
              "                   pre_dispatch='2*n_jobs', random_state=None, refit=True,\n",
              "                   return_train_score=False, scoring='roc_auc', verbose=1)"
            ]
          },
          "metadata": {
            "tags": []
          },
          "execution_count": 29
        }
      ]
    },
    {
      "cell_type": "code",
      "metadata": {
        "id": "LlJVaCyFgrIF",
        "colab_type": "code",
        "outputId": "7d633ee5-f0a0-4b2c-dd49-fef1b36839ae",
        "colab": {
          "base_uri": "https://localhost:8080/",
          "height": 34
        }
      },
      "source": [
        "Random_search.best_params_"
      ],
      "execution_count": 0,
      "outputs": [
        {
          "output_type": "execute_result",
          "data": {
            "text/plain": [
              "{'C': 72.75454545454545, 'class_weight': 'balanced', 'penalty': 'l2'}"
            ]
          },
          "metadata": {
            "tags": []
          },
          "execution_count": 31
        }
      ]
    },
    {
      "cell_type": "code",
      "metadata": {
        "id": "ASKTEVR3gq0D",
        "colab_type": "code",
        "outputId": "ea356e06-f801-42cb-a567-8a08a08f8b97",
        "colab": {
          "base_uri": "https://localhost:8080/",
          "height": 102
        }
      },
      "source": [
        "Random_search.best_estimator_"
      ],
      "execution_count": 0,
      "outputs": [
        {
          "output_type": "execute_result",
          "data": {
            "text/plain": [
              "LogisticRegression(C=72.75454545454545, class_weight='balanced', dual=False,\n",
              "                   fit_intercept=True, intercept_scaling=1, l1_ratio=None,\n",
              "                   max_iter=100, multi_class='warn', n_jobs=None, penalty='l2',\n",
              "                   random_state=None, solver='warn', tol=0.0001, verbose=0,\n",
              "                   warm_start=False)"
            ]
          },
          "metadata": {
            "tags": []
          },
          "execution_count": 32
        }
      ]
    },
    {
      "cell_type": "code",
      "metadata": {
        "id": "5RIUO3uki_YX",
        "colab_type": "code",
        "colab": {}
      },
      "source": [
        "#This you will get in skikit learn documentation\n",
        "def report(results, n_top=3):\n",
        "    for i in range(1, n_top + 1):\n",
        "        candidates = np.flatnonzero(results['rank_test_score'] == i)\n",
        "        for candidate in candidates:\n",
        "            print(\"Model with rank: {0}\".format(i))\n",
        "            print(\"Mean validation score: {0:.3f} (std: {1:.3f})\".format(\n",
        "                  results['mean_test_score'][candidate],\n",
        "                  results['std_test_score'][candidate]))\n",
        "            print(\"Parameters: {0}\".format(results['params'][candidate]))\n",
        "            print(\"\")"
      ],
      "execution_count": 0,
      "outputs": []
    },
    {
      "cell_type": "code",
      "metadata": {
        "id": "OXa5fUOmvRWk",
        "colab_type": "code",
        "outputId": "bb8ce817-fd6d-4d71-de1f-89aa421ec2f7",
        "colab": {
          "base_uri": "https://localhost:8080/",
          "height": 221
        }
      },
      "source": [
        "report(Random_search.cv_results_,3)"
      ],
      "execution_count": 0,
      "outputs": [
        {
          "output_type": "stream",
          "text": [
            "Model with rank: 1\n",
            "Mean validation score: 0.893 (std: 0.023)\n",
            "Parameters: {'penalty': 'l2', 'class_weight': 'balanced', 'C': 72.75454545454545}\n",
            "\n",
            "Model with rank: 2\n",
            "Mean validation score: 0.892 (std: 0.024)\n",
            "Parameters: {'penalty': 'l2', 'class_weight': 'balanced', 'C': 100.0}\n",
            "\n",
            "Model with rank: 3\n",
            "Mean validation score: 0.890 (std: 0.023)\n",
            "Parameters: {'penalty': 'l1', 'class_weight': 'balanced', 'C': 32.39090909090909}\n",
            "\n"
          ],
          "name": "stdout"
        }
      ]
    },
    {
      "cell_type": "code",
      "metadata": {
        "id": "BmdWoBo0vXQL",
        "colab_type": "code",
        "colab": {}
      },
      "source": [
        "logr=Random_search.best_estimator_"
      ],
      "execution_count": 0,
      "outputs": []
    },
    {
      "cell_type": "code",
      "metadata": {
        "id": "9PMdHyOmvu3G",
        "colab_type": "code",
        "colab": {}
      },
      "source": [
        "logr.fit(x_train,y_train)"
      ],
      "execution_count": 0,
      "outputs": []
    },
    {
      "cell_type": "code",
      "metadata": {
        "id": "H_jEiK3Iv2BU",
        "colab_type": "code",
        "outputId": "959f1ffa-278b-46be-cd90-2ffc429ff543",
        "colab": {
          "base_uri": "https://localhost:8080/",
          "height": 850
        }
      },
      "source": [
        "list(zip(logr.coef_[0],x_train.columns))"
      ],
      "execution_count": 43,
      "outputs": [
        {
          "output_type": "execute_result",
          "data": {
            "text/plain": [
              "[(0.8008652467781405, 'interest_rate'),\n",
              " (-4.800876236374454e-07, 'unpaid_principal_bal'),\n",
              " (-0.0014086017834633402, 'loan_term'),\n",
              " (-0.003899760326286626, 'loan_to_value'),\n",
              " (2.926538919929598, 'number_of_borrowers'),\n",
              " (0.019177659113219944, 'debt_to_income_ratio'),\n",
              " (-0.011707016919913247, 'borrower_credit_score'),\n",
              " (0.0012615117106574616, 'insurance_percent'),\n",
              " (-0.004598524933923201, 'co-borrower_credit_score'),\n",
              " (0.7682390603370879, 'insurance_type'),\n",
              " (1.1105545805358998, 'm1'),\n",
              " (1.1849670232294904, 'm2'),\n",
              " (0.3237232368577522, 'm3'),\n",
              " (1.7229523468681334, 'm4'),\n",
              " (1.7441276150658518, 'm5'),\n",
              " (1.4288993236068308, 'm6'),\n",
              " (1.06048726185297, 'm7'),\n",
              " (1.445531541637638, 'm8'),\n",
              " (1.8144456219728715, 'm9'),\n",
              " (1.6506676650324463, 'm10'),\n",
              " (3.0584560269973955, 'm11'),\n",
              " (4.726680370287507, 'm12'),\n",
              " (0.12843349064098303, 'source_Y'),\n",
              " (0.01467317551524563, 'source_Z'),\n",
              " (0.3053030268147505, 'financial_institution_Browning-Hart'),\n",
              " (-0.5478313638461931, 'financial_institution_Chapman-Mcmahon'),\n",
              " (-0.04811860917564287, 'financial_institution_Cole, Brooks and Vincent'),\n",
              " (1.308274816721395, 'financial_institution_Edwards-Hoffman'),\n",
              " (0.5848215241136442, 'financial_institution_Martinez, Duffy and Bird'),\n",
              " (-0.03654143682784777, 'financial_institution_Miller, Mcclure and Allen'),\n",
              " (0.22875761961727162, 'financial_institution_Nicholson Group'),\n",
              " (0.46397489933584374, 'financial_institution_OTHER'),\n",
              " (0.5403645824751389, 'financial_institution_Richards-Walters'),\n",
              " (-0.8928856738752595, 'financial_institution_Richardson Ltd'),\n",
              " (-0.0526822443847801, 'financial_institution_Romero, Woods and Johnson'),\n",
              " (0.4220322717357564, 'financial_institution_Sanchez, Hays and Wilkerson'),\n",
              " (-1.1875263601776131, 'financial_institution_Sanchez-Robinson'),\n",
              " (-0.4887521305636418, 'financial_institution_Suarez Inc'),\n",
              " (0.1151815737560193, 'financial_institution_Swanson, Newton and Miller'),\n",
              " (-1.7738374533712256, 'financial_institution_Taylor, Hunt and Rodriguez'),\n",
              " (1.9026782095826649, 'financial_institution_Thornton-Davis'),\n",
              " (0.6290613799567973, 'financial_institution_Turner, Baldwin and Rhodes'),\n",
              " (0.02604412796889802, 'origination_date_Jan'),\n",
              " (-0.4452176894933196, 'origination_date_March'),\n",
              " (0.022083265424049422, 'first_payment_date_Feb'),\n",
              " (-0.11598538578758948, 'first_payment_date_March'),\n",
              " (0.2120215700520713, 'first_payment_date_May'),\n",
              " (0.04220345628952042, 'loan_purpose_B12'),\n",
              " (0.0750632946166615, 'loan_purpose_C86')]"
            ]
          },
          "metadata": {
            "tags": []
          },
          "execution_count": 43
        }
      ]
    },
    {
      "cell_type": "code",
      "metadata": {
        "id": "XRShALmJzaMF",
        "colab_type": "code",
        "colab": {}
      },
      "source": [
        "train_score=logr.predict_proba(x_train)[:,1]\n",
        "real=y_train"
      ],
      "execution_count": 0,
      "outputs": []
    },
    {
      "cell_type": "code",
      "metadata": {
        "id": "C3aNadJcyBFX",
        "colab_type": "code",
        "colab": {}
      },
      "source": [
        "test_score=logr.predict_proba(x_test)[:,1]"
      ],
      "execution_count": 0,
      "outputs": []
    },
    {
      "cell_type": "code",
      "metadata": {
        "id": "TshknGbHyjlE",
        "colab_type": "code",
        "colab": {
          "base_uri": "https://localhost:8080/",
          "height": 51
        },
        "outputId": "6126f5aa-ac11-44cc-8c28-ba2abe84ac20"
      },
      "source": [
        "test_score"
      ],
      "execution_count": 54,
      "outputs": [
        {
          "output_type": "execute_result",
          "data": {
            "text/plain": [
              "array([0.1636953 , 0.20371875, 0.59484406, ..., 0.94458429, 0.6265219 ,\n",
              "       0.9996402 ])"
            ]
          },
          "metadata": {
            "tags": []
          },
          "execution_count": 54
        }
      ]
    },
    {
      "cell_type": "code",
      "metadata": {
        "id": "CbsZ65GlzCIt",
        "colab_type": "code",
        "colab": {}
      },
      "source": [
        "cutoffs=np.linspace(0.01,0.99,99)"
      ],
      "execution_count": 0,
      "outputs": []
    },
    {
      "cell_type": "code",
      "metadata": {
        "id": "VTEJqP70yla2",
        "colab_type": "code",
        "colab": {}
      },
      "source": [
        "ks_all=[]\n",
        "f1=[]\n",
        "\n",
        "for cutoff in cutoffs:\n",
        "    \n",
        "    predicted=(train_score>cutoff).astype(int)\n",
        "    \n",
        "    TP=((predicted==1)& (real==1)).sum()\n",
        "    TN=((predicted==0)& (real==0)).sum()\n",
        "    FP=((predicted==1)& (real==0)).sum()\n",
        "    FN=((predicted==0)& (real==1)).sum()\n",
        "    \n",
        "    P=TP+FN\n",
        "    N=TN+FP\n",
        "    Sn=TP/P\n",
        "    Sp=TN/N\n",
        "    precision=TP/(TP+FP)\n",
        "    recall=Sn\n",
        "    F1=(1.01*precision*recall)/((.01*precision)+recall)\n",
        "    #Fscore = (2*precision*recall) / sum(precision, recall)\n",
        "    \n",
        "    KS=(TP/P)-(FP/N)\n",
        "    f1.append(F1)\n",
        "    \n",
        "    ks_all.append(KS)"
      ],
      "execution_count": 0,
      "outputs": []
    },
    {
      "cell_type": "code",
      "metadata": {
        "id": "A7bi2EGu8DY_",
        "colab_type": "code",
        "colab": {
          "base_uri": "https://localhost:8080/",
          "height": 1000
        },
        "outputId": "ae07626f-eccb-4fe6-c745-e525988eb766"
      },
      "source": [
        "list(zip(cutoffs,f1))"
      ],
      "execution_count": 91,
      "outputs": [
        {
          "output_type": "execute_result",
          "data": {
            "text/plain": [
              "[(0.01, 0.005541820922470413),\n",
              " (0.02, 0.005580432381867121),\n",
              " (0.03, 0.005615753624414872),\n",
              " (0.04, 0.005657448022042171),\n",
              " (0.05, 0.005723635954085455),\n",
              " (0.060000000000000005, 0.005842910518221302),\n",
              " (0.06999999999999999, 0.006028755123447011),\n",
              " (0.08, 0.0062698967918384495),\n",
              " (0.09, 0.006539670778924867),\n",
              " (0.09999999999999999, 0.006856285024916664),\n",
              " (0.11, 0.007196302336744267),\n",
              " (0.12, 0.007561710233866931),\n",
              " (0.13, 0.007908867368412573),\n",
              " (0.14, 0.008288322836933376),\n",
              " (0.15000000000000002, 0.008715634629210095),\n",
              " (0.16, 0.009103622003311053),\n",
              " (0.17, 0.009511461026771292),\n",
              " (0.18000000000000002, 0.009996646978921421),\n",
              " (0.19, 0.010479009601638875),\n",
              " (0.2, 0.011006122318028643),\n",
              " (0.21000000000000002, 0.011485489462939749),\n",
              " (0.22, 0.012132795497154654),\n",
              " (0.23, 0.012711544803294908),\n",
              " (0.24000000000000002, 0.013360421961410095),\n",
              " (0.25, 0.014102963181137145),\n",
              " (0.26, 0.014763019419307166),\n",
              " (0.27, 0.015607894870700426),\n",
              " (0.28, 0.016387303413751126),\n",
              " (0.29000000000000004, 0.017211272004402117),\n",
              " (0.3, 0.018212627474268658),\n",
              " (0.31, 0.01916098339284151),\n",
              " (0.32, 0.02010624997245317),\n",
              " (0.33, 0.021046280356856836),\n",
              " (0.34, 0.021986917066249227),\n",
              " (0.35000000000000003, 0.023210924679618813),\n",
              " (0.36000000000000004, 0.02439708175375588),\n",
              " (0.37, 0.025626782971253016),\n",
              " (0.38, 0.02694401308741831),\n",
              " (0.39, 0.02830270419668161),\n",
              " (0.4, 0.029827874075073136),\n",
              " (0.41000000000000003, 0.031109540757215396),\n",
              " (0.42000000000000004, 0.03283944412203615),\n",
              " (0.43, 0.034556881481258),\n",
              " (0.44, 0.03636902186381074),\n",
              " (0.45, 0.03823482530944046),\n",
              " (0.46, 0.040264331344650524),\n",
              " (0.47000000000000003, 0.0421506934950916),\n",
              " (0.48000000000000004, 0.04464246736805343),\n",
              " (0.49, 0.04696833154252308),\n",
              " (0.5, 0.0493544411753904),\n",
              " (0.51, 0.05187109693624331),\n",
              " (0.52, 0.05447432740579584),\n",
              " (0.53, 0.05736454257095962),\n",
              " (0.54, 0.060268703197189015),\n",
              " (0.55, 0.06321579590556632),\n",
              " (0.56, 0.06650875994927091),\n",
              " (0.5700000000000001, 0.07059746411979806),\n",
              " (0.5800000000000001, 0.07459885961056088),\n",
              " (0.59, 0.07914272359847133),\n",
              " (0.6, 0.08360866172169587),\n",
              " (0.61, 0.08863485239766804),\n",
              " (0.62, 0.0940769344650612),\n",
              " (0.63, 0.09940511003063923),\n",
              " (0.64, 0.10525814927257703),\n",
              " (0.65, 0.11044734307114633),\n",
              " (0.66, 0.11617207269381183),\n",
              " (0.67, 0.12269275246291725),\n",
              " (0.68, 0.1301731920554975),\n",
              " (0.6900000000000001, 0.13860520335997142),\n",
              " (0.7000000000000001, 0.14465985147775562),\n",
              " (0.7100000000000001, 0.1542650452045451),\n",
              " (0.72, 0.1635494468032355),\n",
              " (0.73, 0.17199589974208054),\n",
              " (0.74, 0.1805179255012323),\n",
              " (0.75, 0.19027847210650078),\n",
              " (0.76, 0.2013691095876957),\n",
              " (0.77, 0.21222934876019198),\n",
              " (0.78, 0.22427414135553125),\n",
              " (0.79, 0.2358358619381756),\n",
              " (0.8, 0.2492715215152352),\n",
              " (0.81, 0.26335674755214983),\n",
              " (0.8200000000000001, 0.27467910176459076),\n",
              " (0.8300000000000001, 0.28935102719392),\n",
              " (0.8400000000000001, 0.3013500108496854),\n",
              " (0.85, 0.31486257099954307),\n",
              " (0.86, 0.32433071930773383),\n",
              " (0.87, 0.3371555571297018),\n",
              " (0.88, 0.3451697795972075),\n",
              " (0.89, 0.3566871724766462),\n",
              " (0.9, 0.3676846786571687),\n",
              " (0.91, 0.3775758941374084),\n",
              " (0.92, 0.3885608934737201),\n",
              " (0.93, 0.3984662440711024),\n",
              " (0.9400000000000001, 0.4079830206764344),\n",
              " (0.9500000000000001, 0.4214572672055095),\n",
              " (0.9600000000000001, 0.4425548668969721),\n",
              " (0.97, 0.462861727589208),\n",
              " (0.98, 0.4903500359625989),\n",
              " (0.99, 0.5385620453421852)]"
            ]
          },
          "metadata": {
            "tags": []
          },
          "execution_count": 91
        }
      ]
    },
    {
      "cell_type": "code",
      "metadata": {
        "id": "SxUGpzVw8riI",
        "colab_type": "code",
        "colab": {
          "base_uri": "https://localhost:8080/",
          "height": 34
        },
        "outputId": "c6c5f6ae-b4c3-48c9-e1d1-44ac8592772a"
      },
      "source": [
        "cutoffs[f1==max(f1)]"
      ],
      "execution_count": 90,
      "outputs": [
        {
          "output_type": "execute_result",
          "data": {
            "text/plain": [
              "array([0.99])"
            ]
          },
          "metadata": {
            "tags": []
          },
          "execution_count": 90
        }
      ]
    },
    {
      "cell_type": "code",
      "metadata": {
        "id": "6b1XJdG0wUrt",
        "colab_type": "code",
        "colab": {
          "base_uri": "https://localhost:8080/",
          "height": 1000
        },
        "outputId": "ee9529d1-a81f-48a9-deaa-e8fd4841c15f"
      },
      "source": [
        "list(zip(cutoffs,ks_all))"
      ],
      "execution_count": 63,
      "outputs": [
        {
          "output_type": "execute_result",
          "data": {
            "text/plain": [
              "[(0.01, 0.0013255705151531405),\n",
              " (0.02, 0.008273985895236646),\n",
              " (0.03, 0.014546620228379381),\n",
              " (0.04, 0.021850253851085633),\n",
              " (0.05, 0.033225901474588926),\n",
              " (0.060000000000000005, 0.05307480376358065),\n",
              " (0.06999999999999999, 0.08243662386720041),\n",
              " (0.08, 0.1177550108984814),\n",
              " (0.09, 0.15358489258285346),\n",
              " (0.09999999999999999, 0.19202676446039035),\n",
              " (0.11, 0.22892230087263044),\n",
              " (0.12, 0.2653409980700844),\n",
              " (0.13, 0.2952406313436208),\n",
              " (0.14, 0.32464642462131577),\n",
              " (0.15000000000000002, 0.3554814277909807),\n",
              " (0.16, 0.3781210736777888),\n",
              " (0.17, 0.3992965272962252),\n",
              " (0.18000000000000002, 0.42414929889759734),\n",
              " (0.19, 0.4446358122106802),\n",
              " (0.2, 0.46454184693216),\n",
              " (0.21000000000000002, 0.47678101980492915),\n",
              " (0.22, 0.49871823918987357),\n",
              " (0.23, 0.5124081181345044),\n",
              " (0.24000000000000002, 0.5269685514974909),\n",
              " (0.25, 0.5446691435496911),\n",
              " (0.26, 0.5544689495446242),\n",
              " (0.27, 0.5704281058220155),\n",
              " (0.28, 0.5811459539939248),\n",
              " (0.29000000000000004, 0.589970912317491),\n",
              " (0.3, 0.6042447844382697),\n",
              " (0.31, 0.6139271379217788),\n",
              " (0.32, 0.6210668120887324),\n",
              " (0.33, 0.6246113114696751),\n",
              " (0.34, 0.625864383461771),\n",
              " (0.35000000000000003, 0.6333547804725106),\n",
              " (0.36000000000000004, 0.6393290020574214),\n",
              " (0.37, 0.6421325779755536),\n",
              " (0.38, 0.6457547251545845),\n",
              " (0.39, 0.6499528555263818),\n",
              " (0.4, 0.6541683136173314),\n",
              " (0.41000000000000003, 0.6538095807901636),\n",
              " (0.42000000000000004, 0.6599480887689244),\n",
              " (0.43, 0.6626127159957407),\n",
              " (0.44, 0.6648874695416296),\n",
              " (0.45, 0.6680067859271458),\n",
              " (0.46, 0.66961442228567),\n",
              " (0.47000000000000003, 0.6675229175432695),\n",
              " (0.48000000000000004, 0.6731544262677761),\n",
              " (0.49, 0.6736877440388559),\n",
              " (0.5, 0.6724234744169304),\n",
              " (0.51, 0.6723070027197979),\n",
              " (0.52, 0.673303673509154),\n",
              " (0.53, 0.6742830165793579),\n",
              " (0.54, 0.669137664805408),\n",
              " (0.55, 0.6679642022399837),\n",
              " (0.56, 0.6653397066646004),\n",
              " (0.5700000000000001, 0.6673802090638355),\n",
              " (0.5800000000000001, 0.6689615269055342),\n",
              " (0.59, 0.6705688363259612),\n",
              " (0.6, 0.6703092474767735),\n",
              " (0.61, 0.6730037078049604),\n",
              " (0.62, 0.67410851336997),\n",
              " (0.63, 0.6733810761036695),\n",
              " (0.64, 0.6725929918203357),\n",
              " (0.65, 0.6683396906446337),\n",
              " (0.66, 0.662548717863211),\n",
              " (0.67, 0.6597811051357725),\n",
              " (0.68, 0.6570308201274861),\n",
              " (0.6900000000000001, 0.6527341996539033),\n",
              " (0.7000000000000001, 0.6417064141658354),\n",
              " (0.7100000000000001, 0.6417715565817053),\n",
              " (0.72, 0.6385447592967299),\n",
              " (0.73, 0.6304623591264606),\n",
              " (0.74, 0.6268543520201342),\n",
              " (0.75, 0.6248013442386805),\n",
              " (0.76, 0.6242946719225235),\n",
              " (0.77, 0.6174986914302659),\n",
              " (0.78, 0.6137607264302969),\n",
              " (0.79, 0.6083464680713888),\n",
              " (0.8, 0.6075885438275231),\n",
              " (0.81, 0.6067786364262004),\n",
              " (0.8200000000000001, 0.6026681254644565),\n",
              " (0.8300000000000001, 0.598644253098474),\n",
              " (0.8400000000000001, 0.5975571021907141),\n",
              " (0.85, 0.5933772803523608),\n",
              " (0.86, 0.590579180647357),\n",
              " (0.87, 0.586304056353666),\n",
              " (0.88, 0.5818643187280277),\n",
              " (0.89, 0.5790575551634478),\n",
              " (0.9, 0.5762161361605632),\n",
              " (0.91, 0.5686577360256032),\n",
              " (0.92, 0.5626629990750922),\n",
              " (0.93, 0.5550699435018274),\n",
              " (0.9400000000000001, 0.552133222043605),\n",
              " (0.9500000000000001, 0.544574821908645),\n",
              " (0.9600000000000001, 0.5386753874134718),\n",
              " (0.97, 0.5264779808826218),\n",
              " (0.98, 0.5065142415869837),\n",
              " (0.99, 0.4726074915249472)]"
            ]
          },
          "metadata": {
            "tags": []
          },
          "execution_count": 63
        }
      ]
    },
    {
      "cell_type": "code",
      "metadata": {
        "id": "O3Y6HDCZ2iNu",
        "colab_type": "code",
        "colab": {}
      },
      "source": [
        "my_cutoff=cutoffs[ks_all==max(ks_all)][0]"
      ],
      "execution_count": 0,
      "outputs": []
    },
    {
      "cell_type": "code",
      "metadata": {
        "id": "Cmp8b6s_2x8y",
        "colab_type": "code",
        "colab": {}
      },
      "source": [
        "#We got 0.53 as cutoff for max KS value"
      ],
      "execution_count": 0,
      "outputs": []
    },
    {
      "cell_type": "code",
      "metadata": {
        "id": "JhgY1m6Q2usj",
        "colab_type": "code",
        "colab": {
          "base_uri": "https://localhost:8080/",
          "height": 34
        },
        "outputId": "c4f786c1-366a-4b3c-a16a-0470aaf734da"
      },
      "source": [
        "my_cutoff"
      ],
      "execution_count": 68,
      "outputs": [
        {
          "output_type": "execute_result",
          "data": {
            "text/plain": [
              "0.53"
            ]
          },
          "metadata": {
            "tags": []
          },
          "execution_count": 68
        }
      ]
    },
    {
      "cell_type": "code",
      "metadata": {
        "id": "USnKcMlK2_-g",
        "colab_type": "code",
        "colab": {}
      },
      "source": [
        "test_pred=(test_score>my_cutoff).astype(int)"
      ],
      "execution_count": 0,
      "outputs": []
    },
    {
      "cell_type": "code",
      "metadata": {
        "id": "Bwr2R24M5Nyv",
        "colab_type": "code",
        "colab": {}
      },
      "source": [
        "df_test1=pd.read_csv('test-2.csv')"
      ],
      "execution_count": 0,
      "outputs": []
    },
    {
      "cell_type": "code",
      "metadata": {
        "id": "a_9E9TjJ3Ul5",
        "colab_type": "code",
        "colab": {
          "base_uri": "https://localhost:8080/",
          "height": 34
        },
        "outputId": "bd9a3e24-00cd-4684-e52b-9209bb7df0c8"
      },
      "source": [
        "test_pred"
      ],
      "execution_count": 72,
      "outputs": [
        {
          "output_type": "execute_result",
          "data": {
            "text/plain": [
              "array([0, 0, 1, ..., 1, 1, 1])"
            ]
          },
          "metadata": {
            "tags": []
          },
          "execution_count": 72
        }
      ]
    },
    {
      "cell_type": "code",
      "metadata": {
        "id": "bS8CDNt73bZX",
        "colab_type": "code",
        "colab": {}
      },
      "source": [
        "pd.DataFrame({'loan_id':df_test1['loan_id'],'m13':test_pred}).to_csv('sample_submission.csv',index=False)"
      ],
      "execution_count": 0,
      "outputs": []
    },
    {
      "cell_type": "code",
      "metadata": {
        "id": "eSMVNbpy3Z9p",
        "colab_type": "code",
        "colab": {}
      },
      "source": [
        "#For new cutoff value"
      ],
      "execution_count": 0,
      "outputs": []
    },
    {
      "cell_type": "code",
      "metadata": {
        "id": "X4x4LDcd8_QP",
        "colab_type": "code",
        "colab": {}
      },
      "source": [
        "test_pred=(test_score>0.99).astype(int)"
      ],
      "execution_count": 0,
      "outputs": []
    },
    {
      "cell_type": "code",
      "metadata": {
        "id": "GiRYQKpT3XET",
        "colab_type": "code",
        "colab": {}
      },
      "source": [
        "pd.DataFrame({'loan_id':df_test1['loan_id'],'m13':test_pred}).to_csv('sample_submission.csv',index=False)"
      ],
      "execution_count": 0,
      "outputs": []
    },
    {
      "cell_type": "markdown",
      "metadata": {
        "id": "zSdWRNGQ-scR",
        "colab_type": "text"
      },
      "source": [
        "Now I will Try **XGBoost**\n",
        "\n",
        "```\n",
        "# This is formatted as code\n",
        "```\n",
        "\n"
      ]
    },
    {
      "cell_type": "code",
      "metadata": {
        "id": "ihrEzgr01np7",
        "colab_type": "code",
        "colab": {}
      },
      "source": [
        "from xgboost.sklearn import XGBClassifier"
      ],
      "execution_count": 0,
      "outputs": []
    },
    {
      "cell_type": "code",
      "metadata": {
        "id": "cDNXth8uwL2P",
        "colab_type": "code",
        "colab": {}
      },
      "source": [
        "xgb_params = {  \n",
        "                \"n_estimators\":[10,50,55,60,100]\n",
        "             }"
      ],
      "execution_count": 0,
      "outputs": []
    },
    {
      "cell_type": "code",
      "metadata": {
        "id": "ATfrtaEswI2d",
        "colab_type": "code",
        "colab": {
          "base_uri": "https://localhost:8080/",
          "height": 164
        },
        "outputId": "c308b30b-c521-4c4c-d72a-b901561f1cb5"
      },
      "source": [
        "xgb1=XGBClassifier(learning_rate=0.1,subsample=0.8,colsample_bylevel=0.8,colsample_bytree=0.8)"
      ],
      "execution_count": 2,
      "outputs": [
        {
          "output_type": "error",
          "ename": "NameError",
          "evalue": "ignored",
          "traceback": [
            "\u001b[0;31m---------------------------------------------------------------------------\u001b[0m",
            "\u001b[0;31mNameError\u001b[0m                                 Traceback (most recent call last)",
            "\u001b[0;32m<ipython-input-2-3304e71c7bae>\u001b[0m in \u001b[0;36m<module>\u001b[0;34m()\u001b[0m\n\u001b[0;32m----> 1\u001b[0;31m \u001b[0mxgb1\u001b[0m\u001b[0;34m=\u001b[0m\u001b[0mXGBClassifier\u001b[0m\u001b[0;34m(\u001b[0m\u001b[0mlearning_rate\u001b[0m\u001b[0;34m=\u001b[0m\u001b[0;36m0.1\u001b[0m\u001b[0;34m,\u001b[0m\u001b[0msubsample\u001b[0m\u001b[0;34m=\u001b[0m\u001b[0;36m0.8\u001b[0m\u001b[0;34m,\u001b[0m\u001b[0mcolsample_bylevel\u001b[0m\u001b[0;34m=\u001b[0m\u001b[0;36m0.8\u001b[0m\u001b[0;34m,\u001b[0m\u001b[0mcolsample_bytree\u001b[0m\u001b[0;34m=\u001b[0m\u001b[0;36m0.8\u001b[0m\u001b[0;34m)\u001b[0m\u001b[0;34m\u001b[0m\u001b[0;34m\u001b[0m\u001b[0m\n\u001b[0m",
            "\u001b[0;31mNameError\u001b[0m: name 'XGBClassifier' is not defined"
          ]
        }
      ]
    },
    {
      "cell_type": "code",
      "metadata": {
        "id": "jdmt9HtIwALz",
        "colab_type": "code",
        "colab": {}
      },
      "source": [
        "random_search=RandomizedSearchCV(xgb1,param_distributions=xgb_params,cv=10,n_jobs=-1,n_iter=10,verbose=2,scoring='roc_auc')"
      ],
      "execution_count": 0,
      "outputs": []
    },
    {
      "cell_type": "code",
      "metadata": {
        "id": "wQllGSMJTWbG",
        "colab_type": "code",
        "colab": {}
      },
      "source": [
        "import warnings\n",
        "warnings.filterwarnings('ignore')"
      ],
      "execution_count": 0,
      "outputs": []
    },
    {
      "cell_type": "code",
      "metadata": {
        "id": "wS81OCkZvRcL",
        "colab_type": "code",
        "colab": {
          "base_uri": "https://localhost:8080/",
          "height": 408
        },
        "outputId": "16fd8eb1-80d8-4040-fa67-e1d3b78ae38f"
      },
      "source": [
        "random_search.fit(x_train,y_train)"
      ],
      "execution_count": 120,
      "outputs": [
        {
          "output_type": "stream",
          "text": [
            "Fitting 10 folds for each of 5 candidates, totalling 50 fits\n"
          ],
          "name": "stdout"
        },
        {
          "output_type": "stream",
          "text": [
            "[Parallel(n_jobs=-1)]: Using backend LokyBackend with 2 concurrent workers.\n",
            "[Parallel(n_jobs=-1)]: Done  37 tasks      | elapsed:  7.3min\n",
            "[Parallel(n_jobs=-1)]: Done  50 out of  50 | elapsed: 17.4min finished\n"
          ],
          "name": "stderr"
        },
        {
          "output_type": "execute_result",
          "data": {
            "text/plain": [
              "RandomizedSearchCV(cv=10, error_score='raise-deprecating',\n",
              "                   estimator=XGBClassifier(base_score=0.5, booster='gbtree',\n",
              "                                           colsample_bylevel=0.8,\n",
              "                                           colsample_bynode=1,\n",
              "                                           colsample_bytree=0.8, gamma=0,\n",
              "                                           learning_rate=0.1, max_delta_step=0,\n",
              "                                           max_depth=3, min_child_weight=1,\n",
              "                                           missing=None, n_estimators=100,\n",
              "                                           n_jobs=1, nthread=None,\n",
              "                                           objective='binary:logistic',\n",
              "                                           random_state=0, reg_alpha=0,\n",
              "                                           reg_lambda=1, scale_pos_weight=1,\n",
              "                                           seed=None, silent=None,\n",
              "                                           subsample=0.8, verbosity=1),\n",
              "                   iid='warn', n_iter=10, n_jobs=-1,\n",
              "                   param_distributions={'n_estimators': [10, 50, 100, 500,\n",
              "                                                         700]},\n",
              "                   pre_dispatch='2*n_jobs', random_state=None, refit=True,\n",
              "                   return_train_score=False, scoring='roc_auc', verbose=2)"
            ]
          },
          "metadata": {
            "tags": []
          },
          "execution_count": 120
        }
      ]
    },
    {
      "cell_type": "code",
      "metadata": {
        "id": "F8CBrF83AvB3",
        "colab_type": "code",
        "colab": {
          "base_uri": "https://localhost:8080/",
          "height": 34
        },
        "outputId": "6a30882a-7f40-45a7-c0e1-448c6c453d48"
      },
      "source": [
        "random_search.best_params_"
      ],
      "execution_count": 121,
      "outputs": [
        {
          "output_type": "execute_result",
          "data": {
            "text/plain": [
              "{'n_estimators': 50}"
            ]
          },
          "metadata": {
            "tags": []
          },
          "execution_count": 121
        }
      ]
    },
    {
      "cell_type": "code",
      "metadata": {
        "id": "1nPHimwzbb3A",
        "colab_type": "code",
        "colab": {
          "base_uri": "https://localhost:8080/",
          "height": 136
        },
        "outputId": "e4a91e36-e363-4ba5-c64f-1bb869560e01"
      },
      "source": [
        "random_search.best_estimator_"
      ],
      "execution_count": 122,
      "outputs": [
        {
          "output_type": "execute_result",
          "data": {
            "text/plain": [
              "XGBClassifier(base_score=0.5, booster='gbtree', colsample_bylevel=0.8,\n",
              "              colsample_bynode=1, colsample_bytree=0.8, gamma=0,\n",
              "              learning_rate=0.1, max_delta_step=0, max_depth=3,\n",
              "              min_child_weight=1, missing=None, n_estimators=50, n_jobs=1,\n",
              "              nthread=None, objective='binary:logistic', random_state=0,\n",
              "              reg_alpha=0, reg_lambda=1, scale_pos_weight=1, seed=None,\n",
              "              silent=None, subsample=0.8, verbosity=1)"
            ]
          },
          "metadata": {
            "tags": []
          },
          "execution_count": 122
        }
      ]
    },
    {
      "cell_type": "code",
      "metadata": {
        "id": "k2z0tnjubfDN",
        "colab_type": "code",
        "colab": {
          "base_uri": "https://localhost:8080/",
          "height": 221
        },
        "outputId": "279b68c7-912b-40cf-b7d3-e7ee914c9c19"
      },
      "source": [
        "report(random_search.cv_results_,3)"
      ],
      "execution_count": 123,
      "outputs": [
        {
          "output_type": "stream",
          "text": [
            "Model with rank: 1\n",
            "Mean validation score: 0.894 (std: 0.027)\n",
            "Parameters: {'n_estimators': 50}\n",
            "\n",
            "Model with rank: 2\n",
            "Mean validation score: 0.894 (std: 0.024)\n",
            "Parameters: {'n_estimators': 100}\n",
            "\n",
            "Model with rank: 3\n",
            "Mean validation score: 0.876 (std: 0.019)\n",
            "Parameters: {'n_estimators': 500}\n",
            "\n"
          ],
          "name": "stdout"
        }
      ]
    },
    {
      "cell_type": "code",
      "metadata": {
        "id": "WAGzedu_vRfh",
        "colab_type": "code",
        "colab": {}
      },
      "source": [
        "xgb_params={\n",
        "            \"gamma\":[2,3,4,5,6,7,8,9],\n",
        "            \"max_depth\": [3,4,5,6,7],\n",
        "            \"min_child_weight\":[0.1,0.2,0.3,0.4]\n",
        "            }"
      ],
      "execution_count": 0,
      "outputs": []
    },
    {
      "cell_type": "code",
      "metadata": {
        "id": "2gdpv3CuvRZt",
        "colab_type": "code",
        "colab": {}
      },
      "source": [
        "xgb2=XGBClassifier(learning_rate=0.1,n_estimators=50,subsample=0.8,colsample_bylevel=0.8,colsample_bytree=0.8)"
      ],
      "execution_count": 0,
      "outputs": []
    },
    {
      "cell_type": "code",
      "metadata": {
        "id": "izbSdX4JA0Ov",
        "colab_type": "code",
        "colab": {}
      },
      "source": [
        "random_search=RandomizedSearchCV(xgb2,param_distributions=xgb_params,n_iter=20,cv=10,scoring='roc_auc',\n",
        "                                 n_jobs=-1,verbose=2)"
      ],
      "execution_count": 0,
      "outputs": []
    },
    {
      "cell_type": "code",
      "metadata": {
        "id": "RC828nJDA0LO",
        "colab_type": "code",
        "colab": {
          "base_uri": "https://localhost:8080/",
          "height": 51
        },
        "outputId": "414368b7-f126-41cd-c1e2-e08dd510bd9e"
      },
      "source": [
        "random_search.fit(x_train,y_train)"
      ],
      "execution_count": 0,
      "outputs": [
        {
          "output_type": "stream",
          "text": [
            "Fitting 10 folds for each of 20 candidates, totalling 200 fits\n"
          ],
          "name": "stdout"
        },
        {
          "output_type": "stream",
          "text": [
            "[Parallel(n_jobs=-1)]: Using backend LokyBackend with 2 concurrent workers.\n"
          ],
          "name": "stderr"
        }
      ]
    },
    {
      "cell_type": "code",
      "metadata": {
        "id": "o29xIpzzcKee",
        "colab_type": "code",
        "colab": {
          "base_uri": "https://localhost:8080/",
          "height": 34
        },
        "outputId": "059ef568-5c28-4b2d-c37f-fea22dff6b12"
      },
      "source": [
        "random_search.best_params_"
      ],
      "execution_count": 129,
      "outputs": [
        {
          "output_type": "execute_result",
          "data": {
            "text/plain": [
              "{'gamma': 7, 'max_depth': 4, 'min_child_weight': 0.2}"
            ]
          },
          "metadata": {
            "tags": []
          },
          "execution_count": 129
        }
      ]
    },
    {
      "cell_type": "code",
      "metadata": {
        "id": "ELVEWbz8gSg4",
        "colab_type": "code",
        "colab": {
          "base_uri": "https://localhost:8080/",
          "height": 136
        },
        "outputId": "87b3d6f7-3b77-4e31-c61b-ce1b853de8a1"
      },
      "source": [
        "random_search.best_estimator_"
      ],
      "execution_count": 40,
      "outputs": [
        {
          "output_type": "execute_result",
          "data": {
            "text/plain": [
              "XGBClassifier(base_score=0.5, booster='gbtree', colsample_bylevel=0.8,\n",
              "              colsample_bynode=1, colsample_bytree=0.8, gamma=8,\n",
              "              learning_rate=0.1, max_delta_step=0, max_depth=2,\n",
              "              min_child_weight=0.5, missing=None, n_estimators=100, n_jobs=1,\n",
              "              nthread=None, objective='binary:logistic', random_state=0,\n",
              "              reg_alpha=0, reg_lambda=1, scale_pos_weight=1, seed=None,\n",
              "              silent=None, subsample=0.8, verbosity=1)"
            ]
          },
          "metadata": {
            "tags": []
          },
          "execution_count": 40
        }
      ]
    },
    {
      "cell_type": "code",
      "metadata": {
        "id": "NSwKWhbIgbZE",
        "colab_type": "code",
        "colab": {
          "base_uri": "https://localhost:8080/",
          "height": 221
        },
        "outputId": "4dee2e7c-60a7-43a0-d2be-d75a6ca763dd"
      },
      "source": [
        "report(random_search.cv_results_,3)"
      ],
      "execution_count": 41,
      "outputs": [
        {
          "output_type": "stream",
          "text": [
            "Model with rank: 1\n",
            "Mean validation score: 0.896 (std: 0.011)\n",
            "Parameters: {'min_child_weight': 0.5, 'max_depth': 2, 'gamma': 8}\n",
            "\n",
            "Model with rank: 2\n",
            "Mean validation score: 0.896 (std: 0.011)\n",
            "Parameters: {'min_child_weight': 1, 'max_depth': 2, 'gamma': 8}\n",
            "\n",
            "Model with rank: 3\n",
            "Mean validation score: 0.895 (std: 0.010)\n",
            "Parameters: {'min_child_weight': 0.5, 'max_depth': 3, 'gamma': 8}\n",
            "\n"
          ],
          "name": "stdout"
        }
      ]
    },
    {
      "cell_type": "code",
      "metadata": {
        "id": "8HIlUO_mguaO",
        "colab_type": "code",
        "colab": {}
      },
      "source": [
        "xgb_params={\n",
        "            'max_delta_step':[0,1,3,6,10],\n",
        "            'scale_pos_weight':[1,2,3,4]\n",
        "            }"
      ],
      "execution_count": 0,
      "outputs": []
    },
    {
      "cell_type": "code",
      "metadata": {
        "id": "wkh5fyyuA0Hi",
        "colab_type": "code",
        "colab": {}
      },
      "source": [
        "xgb3=XGBClassifier(learning_rate=0.1,n_estimators=100,min_child_weight=0.5,gamma=8,max_depth=2,\n",
        "                  subsample=0.8,colsample_bylevel=0.8,colsample_bytree=0.8)"
      ],
      "execution_count": 0,
      "outputs": []
    },
    {
      "cell_type": "code",
      "metadata": {
        "id": "mmmrqjmWA0C_",
        "colab_type": "code",
        "colab": {}
      },
      "source": [
        "random_search=RandomizedSearchCV(xgb3,param_distributions=xgb_params,cv=5,n_iter=10,scoring='roc_auc',n_jobs=-1,verbose=2)"
      ],
      "execution_count": 0,
      "outputs": []
    },
    {
      "cell_type": "code",
      "metadata": {
        "id": "xMQrdjqrhqUE",
        "colab_type": "code",
        "colab": {}
      },
      "source": [
        "#Best Parameters till here\n",
        "n_estimators=100,min_child_weight=0.5,gamma=8,max_depth=2"
      ],
      "execution_count": 0,
      "outputs": []
    },
    {
      "cell_type": "code",
      "metadata": {
        "id": "CgmOP9fOAz-I",
        "colab_type": "code",
        "colab": {
          "base_uri": "https://localhost:8080/",
          "height": 408
        },
        "outputId": "d3bdda1a-0b76-4092-ca09-7124025a83a9"
      },
      "source": [
        "random_search.fit(x_train,y_train)"
      ],
      "execution_count": 46,
      "outputs": [
        {
          "output_type": "stream",
          "text": [
            "Fitting 5 folds for each of 10 candidates, totalling 50 fits\n"
          ],
          "name": "stdout"
        },
        {
          "output_type": "stream",
          "text": [
            "[Parallel(n_jobs=-1)]: Using backend LokyBackend with 2 concurrent workers.\n",
            "[Parallel(n_jobs=-1)]: Done  37 tasks      | elapsed:  3.4min\n",
            "[Parallel(n_jobs=-1)]: Done  50 out of  50 | elapsed:  4.5min finished\n"
          ],
          "name": "stderr"
        },
        {
          "output_type": "execute_result",
          "data": {
            "text/plain": [
              "RandomizedSearchCV(cv=5, error_score='raise-deprecating',\n",
              "                   estimator=XGBClassifier(base_score=0.5, booster='gbtree',\n",
              "                                           colsample_bylevel=0.8,\n",
              "                                           colsample_bynode=1,\n",
              "                                           colsample_bytree=0.8, gamma=8,\n",
              "                                           learning_rate=0.1, max_delta_step=0,\n",
              "                                           max_depth=2, min_child_weight=0.5,\n",
              "                                           missing=None, n_estimators=100,\n",
              "                                           n_jobs=1, nthread=None,\n",
              "                                           objective='binary:logistic',\n",
              "                                           random_state=0, reg_alpha=0,\n",
              "                                           reg_lambda=1, scale_pos_weight=1,\n",
              "                                           seed=None, silent=None,\n",
              "                                           subsample=0.8, verbosity=1),\n",
              "                   iid='warn', n_iter=10, n_jobs=-1,\n",
              "                   param_distributions={'max_delta_step': [0, 1, 3, 6, 10],\n",
              "                                        'scale_pos_weight': [1, 2, 3, 4]},\n",
              "                   pre_dispatch='2*n_jobs', random_state=None, refit=True,\n",
              "                   return_train_score=False, scoring='roc_auc', verbose=2)"
            ]
          },
          "metadata": {
            "tags": []
          },
          "execution_count": 46
        }
      ]
    },
    {
      "cell_type": "code",
      "metadata": {
        "id": "wp5KDXDAhnDA",
        "colab_type": "code",
        "colab": {
          "base_uri": "https://localhost:8080/",
          "height": 34
        },
        "outputId": "e017d9e3-82ae-487c-f9a5-df41636d9293"
      },
      "source": [
        "random_search.best_params_"
      ],
      "execution_count": 48,
      "outputs": [
        {
          "output_type": "execute_result",
          "data": {
            "text/plain": [
              "{'max_delta_step': 3, 'scale_pos_weight': 1}"
            ]
          },
          "metadata": {
            "tags": []
          },
          "execution_count": 48
        }
      ]
    },
    {
      "cell_type": "code",
      "metadata": {
        "id": "IqZq960oixek",
        "colab_type": "code",
        "colab": {}
      },
      "source": [
        "\n",
        "#Best Parameters till here\n",
        "#n_estimators=100,min_child_weight=0.5,gamma=8,max_depth=2\n",
        "#{'max_delta_step': 3, 'scale_pos_weight': 1}"
      ],
      "execution_count": 0,
      "outputs": []
    },
    {
      "cell_type": "code",
      "metadata": {
        "id": "Pd3BCH17hj1b",
        "colab_type": "code",
        "colab": {
          "base_uri": "https://localhost:8080/",
          "height": 221
        },
        "outputId": "707bb6c6-d391-43bc-cb18-fd092d06e65d"
      },
      "source": [
        "report(random_search.cv_results_,3)"
      ],
      "execution_count": 49,
      "outputs": [
        {
          "output_type": "stream",
          "text": [
            "Model with rank: 1\n",
            "Mean validation score: 0.896 (std: 0.011)\n",
            "Parameters: {'scale_pos_weight': 1, 'max_delta_step': 3}\n",
            "\n",
            "Model with rank: 1\n",
            "Mean validation score: 0.896 (std: 0.011)\n",
            "Parameters: {'scale_pos_weight': 1, 'max_delta_step': 10}\n",
            "\n",
            "Model with rank: 1\n",
            "Mean validation score: 0.896 (std: 0.011)\n",
            "Parameters: {'scale_pos_weight': 1, 'max_delta_step': 6}\n",
            "\n"
          ],
          "name": "stdout"
        }
      ]
    },
    {
      "cell_type": "code",
      "metadata": {
        "id": "Ly9g_gFljLsD",
        "colab_type": "code",
        "colab": {}
      },
      "source": [
        "xgb_params={\n",
        "            'subsample':[i/10 for i in range(1,11)],\n",
        "            'colsample_bytree':[i/10 for i in range(1,11)],\n",
        "            'colsample_bylevel':[i/10 for i in range(1,11)]\n",
        "            }"
      ],
      "execution_count": 0,
      "outputs": []
    },
    {
      "cell_type": "code",
      "metadata": {
        "id": "xChI0gFojYT_",
        "colab_type": "code",
        "colab": {}
      },
      "source": [
        "xgb4=XGBClassifier(learning_rate=0.1,n_estimators=100,min_child_weight=0.5,gamma=8,max_depth=2,\n",
        "                        scale_pos_weight=1,max_delta_step=3,\n",
        "                  )"
      ],
      "execution_count": 0,
      "outputs": []
    },
    {
      "cell_type": "code",
      "metadata": {
        "id": "_sAETA5HjYZ9",
        "colab_type": "code",
        "colab": {}
      },
      "source": [
        "random_search=RandomizedSearchCV(xgb4,param_distributions=xgb_params,cv=5,n_iter=10,scoring='roc_auc',verbose=2,n_jobs=-1)"
      ],
      "execution_count": 0,
      "outputs": []
    },
    {
      "cell_type": "code",
      "metadata": {
        "id": "6-PSgqqXkLJi",
        "colab_type": "code",
        "colab": {
          "base_uri": "https://localhost:8080/",
          "height": 527
        },
        "outputId": "ff1264eb-1585-4454-dc86-ecc18c56356a"
      },
      "source": [
        "random_search.fit(x_train,y_train)"
      ],
      "execution_count": 63,
      "outputs": [
        {
          "output_type": "stream",
          "text": [
            "Fitting 5 folds for each of 10 candidates, totalling 50 fits\n"
          ],
          "name": "stdout"
        },
        {
          "output_type": "stream",
          "text": [
            "[Parallel(n_jobs=-1)]: Using backend LokyBackend with 2 concurrent workers.\n",
            "[Parallel(n_jobs=-1)]: Done  37 tasks      | elapsed:  2.4min\n",
            "[Parallel(n_jobs=-1)]: Done  50 out of  50 | elapsed:  3.2min finished\n"
          ],
          "name": "stderr"
        },
        {
          "output_type": "execute_result",
          "data": {
            "text/plain": [
              "RandomizedSearchCV(cv=5, error_score='raise-deprecating',\n",
              "                   estimator=XGBClassifier(base_score=0.5, booster='gbtree',\n",
              "                                           colsample_bylevel=1,\n",
              "                                           colsample_bynode=1,\n",
              "                                           colsample_bytree=1, gamma=8,\n",
              "                                           learning_rate=0.1, max_delta_step=3,\n",
              "                                           max_depth=2, min_child_weight=0.5,\n",
              "                                           missing=None, n_estimators=100,\n",
              "                                           n_jobs=1, nthread=None,\n",
              "                                           objective='binary:logistic',\n",
              "                                           random_state=0, reg_alpha...\n",
              "                                           seed=None, silent=None, subsample=1,\n",
              "                                           verbosity=1),\n",
              "                   iid='warn', n_iter=10, n_jobs=-1,\n",
              "                   param_distributions={'colsample_bylevel': [0.1, 0.2, 0.3,\n",
              "                                                              0.4, 0.5, 0.6,\n",
              "                                                              0.7, 0.8, 0.9,\n",
              "                                                              1.0],\n",
              "                                        'colsample_bytree': [0.1, 0.2, 0.3, 0.4,\n",
              "                                                             0.5, 0.6, 0.7, 0.8,\n",
              "                                                             0.9, 1.0],\n",
              "                                        'subsample': [0.1, 0.2, 0.3, 0.4, 0.5,\n",
              "                                                      0.6, 0.7, 0.8, 0.9,\n",
              "                                                      1.0]},\n",
              "                   pre_dispatch='2*n_jobs', random_state=None, refit=True,\n",
              "                   return_train_score=False, scoring='roc_auc', verbose=2)"
            ]
          },
          "metadata": {
            "tags": []
          },
          "execution_count": 63
        }
      ]
    },
    {
      "cell_type": "code",
      "metadata": {
        "id": "8ETTx7VXlcU_",
        "colab_type": "code",
        "colab": {
          "base_uri": "https://localhost:8080/",
          "height": 34
        },
        "outputId": "3bf7b6a9-77d7-40ea-cbe9-28e9d41d0330"
      },
      "source": [
        "random_search.best_params_"
      ],
      "execution_count": 64,
      "outputs": [
        {
          "output_type": "execute_result",
          "data": {
            "text/plain": [
              "{'colsample_bylevel': 0.7, 'colsample_bytree': 0.7, 'subsample': 0.3}"
            ]
          },
          "metadata": {
            "tags": []
          },
          "execution_count": 64
        }
      ]
    },
    {
      "cell_type": "code",
      "metadata": {
        "id": "QhpUBmvHlrgg",
        "colab_type": "code",
        "colab": {
          "base_uri": "https://localhost:8080/",
          "height": 221
        },
        "outputId": "0556780f-f2c7-44f3-dc56-1ea120d9eb81"
      },
      "source": [
        "report(random_search.cv_results_,3)"
      ],
      "execution_count": 65,
      "outputs": [
        {
          "output_type": "stream",
          "text": [
            "Model with rank: 1\n",
            "Mean validation score: 0.896 (std: 0.009)\n",
            "Parameters: {'subsample': 0.3, 'colsample_bytree': 0.7, 'colsample_bylevel': 0.7}\n",
            "\n",
            "Model with rank: 2\n",
            "Mean validation score: 0.895 (std: 0.007)\n",
            "Parameters: {'subsample': 0.2, 'colsample_bytree': 0.9, 'colsample_bylevel': 0.1}\n",
            "\n",
            "Model with rank: 3\n",
            "Mean validation score: 0.895 (std: 0.008)\n",
            "Parameters: {'subsample': 0.5, 'colsample_bytree': 0.8, 'colsample_bylevel': 0.3}\n",
            "\n"
          ],
          "name": "stdout"
        }
      ]
    },
    {
      "cell_type": "code",
      "metadata": {
        "id": "mOKSTsfQkYUM",
        "colab_type": "code",
        "colab": {}
      },
      "source": [
        "#Best Parameters till here\n",
        "#n_estimators=100,min_child_weight=0.5,gamma=8,max_depth=2\n",
        "#{'max_delta_step': 3, 'scale_pos_weight': 1}\n",
        "#{'colsample_bylevel': 0.7, 'colsample_bytree': 0.7, 'subsample': 0.3}"
      ],
      "execution_count": 0,
      "outputs": []
    },
    {
      "cell_type": "code",
      "metadata": {
        "id": "qFEFOtagnZWu",
        "colab_type": "code",
        "colab": {}
      },
      "source": [
        "xgb_params={\n",
        "            'reg_lambda':[i/10 for i in range(0,50)],\n",
        "            'reg_alpha':[i/10 for i in range(0,50)]\n",
        "            }"
      ],
      "execution_count": 0,
      "outputs": []
    },
    {
      "cell_type": "code",
      "metadata": {
        "id": "LCmIYutGkLPs",
        "colab_type": "code",
        "colab": {}
      },
      "source": [
        "xgb5=XGBClassifier(learning_rate=0.1,n_estimators=100,min_child_weight=0.5,gamma=8,max_depth=2,\n",
        "                        scale_pos_weight=1,max_delta_step=3,subsample= 0.3,colsample_bytree= 0.7,colsample_bylevel= 0.7\n",
        "                  )"
      ],
      "execution_count": 0,
      "outputs": []
    },
    {
      "cell_type": "code",
      "metadata": {
        "id": "b929sRuYkLVW",
        "colab_type": "code",
        "colab": {}
      },
      "source": [
        "random_search=RandomizedSearchCV(xgb5,param_distributions=xgb_params,cv=5,n_iter=10,scoring='roc_auc',verbose=2,n_jobs=-1)"
      ],
      "execution_count": 0,
      "outputs": []
    },
    {
      "cell_type": "code",
      "metadata": {
        "id": "_I1EdFe1nl3e",
        "colab_type": "code",
        "colab": {
          "base_uri": "https://localhost:8080/",
          "height": 493
        },
        "outputId": "cc8d2077-d1eb-4e11-d4e5-11cfac77ff54"
      },
      "source": [
        "random_search.fit(x_train,y_train)"
      ],
      "execution_count": 70,
      "outputs": [
        {
          "output_type": "stream",
          "text": [
            "Fitting 5 folds for each of 10 candidates, totalling 50 fits\n"
          ],
          "name": "stdout"
        },
        {
          "output_type": "stream",
          "text": [
            "[Parallel(n_jobs=-1)]: Using backend LokyBackend with 2 concurrent workers.\n",
            "[Parallel(n_jobs=-1)]: Done  37 tasks      | elapsed:  2.8min\n",
            "[Parallel(n_jobs=-1)]: Done  50 out of  50 | elapsed:  3.7min finished\n"
          ],
          "name": "stderr"
        },
        {
          "output_type": "execute_result",
          "data": {
            "text/plain": [
              "RandomizedSearchCV(cv=5, error_score='raise-deprecating',\n",
              "                   estimator=XGBClassifier(base_score=0.5, booster='gbtree',\n",
              "                                           colsample_bylevel=0.7,\n",
              "                                           colsample_bynode=1,\n",
              "                                           colsample_bytree=0.7, gamma=8,\n",
              "                                           learning_rate=0.1, max_delta_step=3,\n",
              "                                           max_depth=2, min_child_weight=0.5,\n",
              "                                           missing=None, n_estimators=100,\n",
              "                                           n_jobs=1, nthread=None,\n",
              "                                           objective='binary:logistic',\n",
              "                                           random_state=0, reg_a...\n",
              "                                                      0.5, 0.6, 0.7, 0.8, 0.9,\n",
              "                                                      1.0, 1.1, 1.2, 1.3, 1.4,\n",
              "                                                      1.5, 1.6, 1.7, 1.8, 1.9,\n",
              "                                                      2.0, 2.1, 2.2, 2.3, 2.4,\n",
              "                                                      2.5, 2.6, 2.7, 2.8, 2.9, ...],\n",
              "                                        'reg_lambda': [0.0, 0.1, 0.2, 0.3, 0.4,\n",
              "                                                       0.5, 0.6, 0.7, 0.8, 0.9,\n",
              "                                                       1.0, 1.1, 1.2, 1.3, 1.4,\n",
              "                                                       1.5, 1.6, 1.7, 1.8, 1.9,\n",
              "                                                       2.0, 2.1, 2.2, 2.3, 2.4,\n",
              "                                                       2.5, 2.6, 2.7, 2.8, 2.9, ...]},\n",
              "                   pre_dispatch='2*n_jobs', random_state=None, refit=True,\n",
              "                   return_train_score=False, scoring='roc_auc', verbose=2)"
            ]
          },
          "metadata": {
            "tags": []
          },
          "execution_count": 70
        }
      ]
    },
    {
      "cell_type": "code",
      "metadata": {
        "id": "tk7sPBbIol-I",
        "colab_type": "code",
        "colab": {
          "base_uri": "https://localhost:8080/",
          "height": 34
        },
        "outputId": "9e90c660-fcc3-4ac3-b0d5-b724592a8ea4"
      },
      "source": [
        "random_search.best_params_"
      ],
      "execution_count": 71,
      "outputs": [
        {
          "output_type": "execute_result",
          "data": {
            "text/plain": [
              "{'reg_alpha': 1.3, 'reg_lambda': 0.3}"
            ]
          },
          "metadata": {
            "tags": []
          },
          "execution_count": 71
        }
      ]
    },
    {
      "cell_type": "code",
      "metadata": {
        "id": "QlVNE6JGoo4w",
        "colab_type": "code",
        "colab": {}
      },
      "source": [
        "#Best Parameters till here\n",
        "#n_estimators=100,min_child_weight=0.5,gamma=8,max_depth=2\n",
        "#{'max_delta_step': 3, 'scale_pos_weight': 1}\n",
        "#{'colsample_bylevel': 0.7, 'colsample_bytree': 0.7, 'subsample': 0.3}\n",
        "#{'reg_alpha': 1.3, 'reg_lambda': 0.3}"
      ],
      "execution_count": 0,
      "outputs": []
    },
    {
      "cell_type": "code",
      "metadata": {
        "id": "GEUDG6yco6Lc",
        "colab_type": "code",
        "colab": {
          "base_uri": "https://localhost:8080/",
          "height": 221
        },
        "outputId": "2cfbb63b-053c-4fe7-a9f0-afaac888acc8"
      },
      "source": [
        "report(random_search.cv_results_,3)"
      ],
      "execution_count": 72,
      "outputs": [
        {
          "output_type": "stream",
          "text": [
            "Model with rank: 1\n",
            "Mean validation score: 0.896 (std: 0.012)\n",
            "Parameters: {'reg_lambda': 0.3, 'reg_alpha': 1.3}\n",
            "\n",
            "Model with rank: 2\n",
            "Mean validation score: 0.896 (std: 0.012)\n",
            "Parameters: {'reg_lambda': 1.2, 'reg_alpha': 1.5}\n",
            "\n",
            "Model with rank: 3\n",
            "Mean validation score: 0.895 (std: 0.013)\n",
            "Parameters: {'reg_lambda': 4.7, 'reg_alpha': 2.2}\n",
            "\n"
          ],
          "name": "stdout"
        }
      ]
    },
    {
      "cell_type": "code",
      "metadata": {
        "id": "Fw1ilkPDomF7",
        "colab_type": "code",
        "colab": {}
      },
      "source": [
        "xgb6=XGBClassifier(learning_rate=0.1,n_estimators=100,min_child_weight=0.5,gamma=8,max_depth=2,\n",
        "                        scale_pos_weight=1,max_delta_step=3,subsample= 0.3,colsample_bytree= 0.7,colsample_bylevel= 0.7,\n",
        "                   reg_alpha= 1.3,reg_lambda=0.3\n",
        "                  )"
      ],
      "execution_count": 0,
      "outputs": []
    },
    {
      "cell_type": "code",
      "metadata": {
        "id": "TNiqcMTvpC0s",
        "colab_type": "code",
        "colab": {}
      },
      "source": [
        "from sklearn.model_selection import cross_val_score"
      ],
      "execution_count": 0,
      "outputs": []
    },
    {
      "cell_type": "code",
      "metadata": {
        "id": "i0M_C0h2pC8s",
        "colab_type": "code",
        "colab": {
          "base_uri": "https://localhost:8080/",
          "height": 119
        },
        "outputId": "3947ff6c-567a-4c58-8271-8030437663e5"
      },
      "source": [
        "cross_val_score(xgb6,x_train,y_train,scoring='roc_auc',verbose=10,n_jobs=-1,cv=10)"
      ],
      "execution_count": 83,
      "outputs": [
        {
          "output_type": "stream",
          "text": [
            "[Parallel(n_jobs=-1)]: Using backend LokyBackend with 2 concurrent workers.\n",
            "[Parallel(n_jobs=-1)]: Done   1 tasks      | elapsed:    9.2s\n",
            "[Parallel(n_jobs=-1)]: Done   4 tasks      | elapsed:   21.2s\n",
            "[Parallel(n_jobs=-1)]: Done  10 out of  10 | elapsed:   50.0s finished\n"
          ],
          "name": "stderr"
        },
        {
          "output_type": "execute_result",
          "data": {
            "text/plain": [
              "array([0.90786353, 0.87371879, 0.88695972, 0.89754267, 0.83966505,\n",
              "       0.92430431, 0.94062403, 0.87173415, 0.91943915, 0.89522462])"
            ]
          },
          "metadata": {
            "tags": []
          },
          "execution_count": 83
        }
      ]
    },
    {
      "cell_type": "code",
      "metadata": {
        "id": "N_AcaX5vplow",
        "colab_type": "code",
        "colab": {}
      },
      "source": [
        "scores=[0.90786353, 0.87371879, 0.88695972, 0.89754267, 0.83966505,\n",
        "       0.92430431, 0.94062403, 0.87173415, 0.91943915, 0.89522462]"
      ],
      "execution_count": 0,
      "outputs": []
    },
    {
      "cell_type": "code",
      "metadata": {
        "id": "Yb6pnYDBqrOo",
        "colab_type": "code",
        "colab": {}
      },
      "source": [
        "xgb6=random_search.best_estimator_"
      ],
      "execution_count": 0,
      "outputs": []
    },
    {
      "cell_type": "code",
      "metadata": {
        "id": "wxHnROVWqxGN",
        "colab_type": "code",
        "colab": {
          "base_uri": "https://localhost:8080/",
          "height": 136
        },
        "outputId": "dc8a96d4-df93-401e-cbbf-e36b94dae083"
      },
      "source": [
        "xgb6"
      ],
      "execution_count": 85,
      "outputs": [
        {
          "output_type": "execute_result",
          "data": {
            "text/plain": [
              "XGBClassifier(base_score=0.5, booster='gbtree', colsample_bylevel=0.7,\n",
              "              colsample_bynode=1, colsample_bytree=0.7, gamma=8,\n",
              "              learning_rate=0.1, max_delta_step=3, max_depth=2,\n",
              "              min_child_weight=0.5, missing=None, n_estimators=100, n_jobs=1,\n",
              "              nthread=None, objective='binary:logistic', random_state=0,\n",
              "              reg_alpha=1.3, reg_lambda=0.3, scale_pos_weight=1, seed=None,\n",
              "              silent=None, subsample=0.3, verbosity=1)"
            ]
          },
          "metadata": {
            "tags": []
          },
          "execution_count": 85
        }
      ]
    },
    {
      "cell_type": "code",
      "metadata": {
        "id": "05giQobzqyzr",
        "colab_type": "code",
        "colab": {
          "base_uri": "https://localhost:8080/",
          "height": 136
        },
        "outputId": "7e2836dd-c5e4-447c-ff8d-da777c66c113"
      },
      "source": [
        "xgb6.fit(x_train,y_train)"
      ],
      "execution_count": 86,
      "outputs": [
        {
          "output_type": "execute_result",
          "data": {
            "text/plain": [
              "XGBClassifier(base_score=0.5, booster='gbtree', colsample_bylevel=0.7,\n",
              "              colsample_bynode=1, colsample_bytree=0.7, gamma=8,\n",
              "              learning_rate=0.1, max_delta_step=3, max_depth=2,\n",
              "              min_child_weight=0.5, missing=None, n_estimators=100, n_jobs=1,\n",
              "              nthread=None, objective='binary:logistic', random_state=0,\n",
              "              reg_alpha=1.3, reg_lambda=0.3, scale_pos_weight=1, seed=None,\n",
              "              silent=None, subsample=0.3, verbosity=1)"
            ]
          },
          "metadata": {
            "tags": []
          },
          "execution_count": 86
        }
      ]
    },
    {
      "cell_type": "code",
      "metadata": {
        "id": "pnY_IySkrJrn",
        "colab_type": "code",
        "colab": {}
      },
      "source": [
        "pred_train=xgb6.predict_proba(x_train)[:,1]"
      ],
      "execution_count": 0,
      "outputs": []
    },
    {
      "cell_type": "code",
      "metadata": {
        "id": "9lkdX6Aarhd0",
        "colab_type": "code",
        "colab": {
          "base_uri": "https://localhost:8080/",
          "height": 51
        },
        "outputId": "858168fa-15fd-406a-acc3-ce194a130e66"
      },
      "source": [
        "pred_train"
      ],
      "execution_count": 88,
      "outputs": [
        {
          "output_type": "execute_result",
          "data": {
            "text/plain": [
              "array([0.01042229, 0.07369015, 0.00215592, ..., 0.00499634, 0.00212931,\n",
              "       0.00157168], dtype=float32)"
            ]
          },
          "metadata": {
            "tags": []
          },
          "execution_count": 88
        }
      ]
    },
    {
      "cell_type": "code",
      "metadata": {
        "id": "vl0Qc0K4ri6g",
        "colab_type": "code",
        "colab": {}
      },
      "source": [
        "real=y_train"
      ],
      "execution_count": 0,
      "outputs": []
    },
    {
      "cell_type": "code",
      "metadata": {
        "id": "FPIakqlBrrim",
        "colab_type": "code",
        "colab": {}
      },
      "source": [
        "test_score=xgb6.predict_proba(x_test)[:,1]"
      ],
      "execution_count": 0,
      "outputs": []
    },
    {
      "cell_type": "code",
      "metadata": {
        "id": "DzFOIVp_p8rC",
        "colab_type": "code",
        "colab": {}
      },
      "source": [
        "cutoffs=np.linspace(0.01,0.99,99)\n",
        "ks_all=[]\n",
        "f1=[]\n",
        "\n",
        "for cutoff in cutoffs:\n",
        "    \n",
        "    predicted=(train_score>cutoff).astype(int)\n",
        "    \n",
        "    TP=((predicted==1)& (real==1)).sum()\n",
        "    TN=((predicted==0)& (real==0)).sum()\n",
        "    FP=((predicted==1)& (real==0)).sum()\n",
        "    FN=((predicted==0)& (real==1)).sum()\n",
        "    \n",
        "    P=TP+FN\n",
        "    N=TN+FP\n",
        "    Sn=TP/P\n",
        "    Sp=TN/N\n",
        "    precision=TP/(TP+FP)\n",
        "    recall=Sn\n",
        "    F1=(1.01*precision*recall)/((.01*precision)+recall)\n",
        "    #Fscore = (2*precision*recall) / sum(precision, recall)\n",
        "    \n",
        "    KS=(TP/P)-(FP/N)\n",
        "    f1.append(F1)\n",
        "    \n",
        "    ks_all.append(KS)"
      ],
      "execution_count": 0,
      "outputs": []
    },
    {
      "cell_type": "code",
      "metadata": {
        "id": "TfeHIZL0qP1_",
        "colab_type": "code",
        "colab": {
          "base_uri": "https://localhost:8080/",
          "height": 34
        },
        "outputId": "16fa6ea5-726c-4cfc-fc17-ee55c73b77a3"
      },
      "source": [
        "cutoffs[ks_all==max(ks_all)]"
      ],
      "execution_count": 95,
      "outputs": [
        {
          "output_type": "execute_result",
          "data": {
            "text/plain": [
              "array([0.01])"
            ]
          },
          "metadata": {
            "tags": []
          },
          "execution_count": 95
        }
      ]
    },
    {
      "cell_type": "code",
      "metadata": {
        "id": "nEFfWDDlsf34",
        "colab_type": "code",
        "colab": {
          "base_uri": "https://localhost:8080/",
          "height": 34
        },
        "outputId": "146d1b06-6777-44da-ab07-b169dd652109"
      },
      "source": [
        "cutoffs[f1==max(f1)]"
      ],
      "execution_count": 99,
      "outputs": [
        {
          "output_type": "execute_result",
          "data": {
            "text/plain": [
              "array([0.88])"
            ]
          },
          "metadata": {
            "tags": []
          },
          "execution_count": 99
        }
      ]
    },
    {
      "cell_type": "code",
      "metadata": {
        "id": "5J39d1d-su86",
        "colab_type": "code",
        "colab": {
          "base_uri": "https://localhost:8080/",
          "height": 1000
        },
        "outputId": "fed7c7cf-25d6-4707-9ede-bfc7964165be"
      },
      "source": [
        "list(zip(f1,cutoffs))"
      ],
      "execution_count": 101,
      "outputs": [
        {
          "output_type": "execute_result",
          "data": {
            "text/plain": [
              "[(0.10957025453131237, 0.01),\n",
              " (0.38807322254154697, 0.02),\n",
              " (0.4698216207904044, 0.03),\n",
              " (0.49223525524533285, 0.04),\n",
              " (0.5196640842155065, 0.05),\n",
              " (0.5320223677706376, 0.060000000000000005),\n",
              " (0.5415635509867377, 0.06999999999999999),\n",
              " (0.5535972167520021, 0.08),\n",
              " (0.5699231762866273, 0.09),\n",
              " (0.577787079670713, 0.09999999999999999),\n",
              " (0.5927574678392326, 0.11),\n",
              " (0.5999888962913614, 0.12),\n",
              " (0.6048246939700771, 0.13),\n",
              " (0.6161399023936789, 0.14),\n",
              " (0.6243186665613397, 0.15000000000000002),\n",
              " (0.6295238861187069, 0.16),\n",
              " (0.6333441216926936, 0.17),\n",
              " (0.6481938289154612, 0.18000000000000002),\n",
              " (0.6527765966493749, 0.19),\n",
              " (0.6669562950734208, 0.2),\n",
              " (0.6720616654954321, 0.21000000000000002),\n",
              " (0.6787876090439736, 0.22),\n",
              " (0.6841524889729048, 0.23),\n",
              " (0.6804442825928625, 0.24000000000000002),\n",
              " (0.6882770052491022, 0.25),\n",
              " (0.692460688880569, 0.26),\n",
              " (0.6967837092016367, 0.27),\n",
              " (0.7056380691811608, 0.28),\n",
              " (0.7093678899990108, 0.29000000000000004),\n",
              " (0.71094459582198, 0.3),\n",
              " (0.7174468520032706, 0.31),\n",
              " (0.722248038000826, 0.32),\n",
              " (0.7283144535347177, 0.33),\n",
              " (0.7328351743556422, 0.34),\n",
              " (0.7393769264641128, 0.35000000000000003),\n",
              " (0.749693046098895, 0.36000000000000004),\n",
              " (0.7517909111260355, 0.37),\n",
              " (0.7574428345030563, 0.38),\n",
              " (0.7625157882650133, 0.39),\n",
              " (0.7677364864864865, 0.4),\n",
              " (0.7685685744505818, 0.41000000000000003),\n",
              " (0.7724092957078492, 0.42000000000000004),\n",
              " (0.7772513278609368, 0.43),\n",
              " (0.7770194813252264, 0.44),\n",
              " (0.7814561136478945, 0.45),\n",
              " (0.7882515416238437, 0.46),\n",
              " (0.7912260086173131, 0.47000000000000003),\n",
              " (0.7957212552742616, 0.48000000000000004),\n",
              " (0.7942991770639767, 0.49),\n",
              " (0.7974760426508299, 0.5),\n",
              " (0.8001760563380282, 0.51),\n",
              " (0.8049322752770557, 0.52),\n",
              " (0.8035197685631631, 0.53),\n",
              " (0.8020876681925372, 0.54),\n",
              " (0.8062667041778029, 0.55),\n",
              " (0.8062356815578464, 0.56),\n",
              " (0.8106115630447415, 0.5700000000000001),\n",
              " (0.8165422885572141, 0.5800000000000001),\n",
              " (0.814395620653943, 0.59),\n",
              " (0.8152500375431746, 0.6),\n",
              " (0.8137766681797548, 0.61),\n",
              " (0.8153887358432812, 0.62),\n",
              " (0.8187265037593985, 0.63),\n",
              " (0.8172166087780232, 0.64),\n",
              " (0.8229749161207862, 0.65),\n",
              " (0.8281376846890728, 0.66),\n",
              " (0.8334708697804918, 0.67),\n",
              " (0.8389830508474576, 0.68),\n",
              " (0.8410944935418083, 0.6900000000000001),\n",
              " (0.8381742738589213, 0.7000000000000001),\n",
              " (0.8433027036578902, 0.7100000000000001),\n",
              " (0.858472746896924, 0.72),\n",
              " (0.8656090444930707, 0.73),\n",
              " (0.8649477926360141, 0.74),\n",
              " (0.8662823397075367, 0.75),\n",
              " (0.8676809368400845, 0.76),\n",
              " (0.8698375415932669, 0.77),\n",
              " (0.8821621082052304, 0.78),\n",
              " (0.8795579547769403, 0.79),\n",
              " (0.8761496655518396, 0.8),\n",
              " (0.8786827497865073, 0.81),\n",
              " (0.8868346422338569, 0.8200000000000001),\n",
              " (0.8861592454485633, 0.8300000000000001),\n",
              " (0.889044628840547, 0.8400000000000001),\n",
              " (0.8933998639147199, 0.85),\n",
              " (0.8920623996329434, 0.86),\n",
              " (0.9033219761499147, 0.87),\n",
              " (0.9036431513903194, 0.88),\n",
              " (0.8993706480985539, 0.89),\n",
              " (0.897875108412836, 0.9),\n",
              " (0.8945370646025602, 0.91),\n",
              " (0.8852524927629463, 0.92),\n",
              " (0.8842753120665743, 0.93),\n",
              " (0.8807014181678805, 0.9400000000000001),\n",
              " (0.8857730619315722, 0.9500000000000001),\n",
              " (0.8781502016129032, 0.9600000000000001),\n",
              " (0.8060828300258844, 0.97),\n",
              " (0.7227191413237924, 0.98),\n",
              " (nan, 0.99)]"
            ]
          },
          "metadata": {
            "tags": []
          },
          "execution_count": 101
        }
      ]
    },
    {
      "cell_type": "code",
      "metadata": {
        "id": "NKDhXFcHs5pX",
        "colab_type": "code",
        "colab": {}
      },
      "source": [
        "#0.88 is the cutoff at maximum F1 score"
      ],
      "execution_count": 0,
      "outputs": []
    },
    {
      "cell_type": "code",
      "metadata": {
        "id": "rvppqu6JsxQa",
        "colab_type": "code",
        "colab": {}
      },
      "source": [
        "test_out_final=(test_score>0.88).astype(int)"
      ],
      "execution_count": 0,
      "outputs": []
    },
    {
      "cell_type": "code",
      "metadata": {
        "id": "RzaeqiGpsnJL",
        "colab_type": "code",
        "colab": {}
      },
      "source": [
        "pd.DataFrame({'loan_id':df_test1['loan_id'],'m13':test_out_final}).to_csv('sample_submission.csv',index=False)"
      ],
      "execution_count": 0,
      "outputs": []
    },
    {
      "cell_type": "code",
      "metadata": {
        "id": "FVYG1vMasMoc",
        "colab_type": "code",
        "colab": {}
      },
      "source": [
        ""
      ],
      "execution_count": 0,
      "outputs": []
    },
    {
      "cell_type": "code",
      "metadata": {
        "id": "AZGxHJrhpu0-",
        "colab_type": "code",
        "colab": {}
      },
      "source": [
        ""
      ],
      "execution_count": 0,
      "outputs": []
    }
  ]
}